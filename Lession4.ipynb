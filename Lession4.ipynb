{
  "nbformat": 4,
  "nbformat_minor": 0,
  "metadata": {
    "colab": {
      "name": "Lession4.ipynb",
      "provenance": [],
      "collapsed_sections": [],
      "authorship_tag": "ABX9TyMcKYIpUZ8gOJGJx0e1FcH5",
      "include_colab_link": true
    },
    "kernelspec": {
      "name": "python3",
      "display_name": "Python 3"
    }
  },
  "cells": [
    {
      "cell_type": "markdown",
      "metadata": {
        "id": "view-in-github",
        "colab_type": "text"
      },
      "source": [
        "<a href=\"https://colab.research.google.com/github/phamhoangtin/C4E_Python_Books/blob/master/Lession4.ipynb\" target=\"_parent\"><img src=\"https://colab.research.google.com/assets/colab-badge.svg\" alt=\"Open In Colab\"/></a>"
      ]
    },
    {
      "cell_type": "markdown",
      "metadata": {
        "id": "mA8SUg93ejNa",
        "colab_type": "text"
      },
      "source": [
        "\n",
        "<h1>Kiểu dữ liệu container</h1>\n",
        "<h2><font color = 'orange'> I. Kiểu dữ liệu Container</font></h2>\n",
        "<h2>Giới thiệu</h2>\n",
        "<p> ví dụ ta có một danh sách học sinh của lớp ta không thể lưu mỗi học sinh là 1 biến, vì việc đó sẽ rất mất thời gian và tốn nhiều không gian bộ nhớ</p>\n",
        "<p>Giải pháp: Lưu tất cả vào 1 biến. Đánh chỉ số như số thứ tự cho mỗi học sinh</p>\n",
        "\n",
        "\n",
        "```\n",
        "students = ['Minh', 'Tam', 'Tu','Ha','Tuan','Duyen']\n",
        "```\n",
        "\n",
        "<table width=\"800\" height=\"500\">\n",
        "<caption>Một số kiểu dữ liệu tập hợp</caption>\n",
        "<tr>\n",
        "    <th></th>\n",
        "    <th>List</th>\n",
        "    <th>Tuple</th>\n",
        "    <th>Set</th>\n",
        "    <th> Dictionary</th>\n",
        "  </tr>\n",
        "  <tr>\n",
        "    <td><b>Khởi tạo</b></td>\n",
        "    <td><font size = \"3\" >[value0,value1..]</font></td>\n",
        "    <td><font size = \"3\" >(value0,value1..)</font></td>\n",
        "    <td><font size = \"3\" >{value0,value1..}</font></td>\n",
        "    <td><font size = \"3\" >{key0: value0,<br>\n",
        "         key1:  value1,<br>\n",
        "         key2: value2..}</font></td>\n",
        "  </tr>\n",
        "  <tr>\n",
        "    <td><b>Sắp xếp</b></td>\n",
        "    <td><font color ='aqua'>Yes</font></td>\n",
        "    <td><font color ='aqua'>Yes</font></td>\n",
        "    <td><font color ='red'>No</font></td>\n",
        "    <td><font color ='green'>\"Có thể\"</font></td>\n",
        "  </tr>\n",
        "  <tr>\n",
        "    <td><b>Cho phép trùng</b></td>\n",
        "    <td><font color ='aqua'>Yes</font></td>\n",
        "    <td><font color ='aqua'>Yes</font></td>\n",
        "    <td><font color ='red'>No</font></td>\n",
        "    <td><font color ='red'>No</font>->keys<br><font color ='aqua'>Yes</font>->Values</td>\n",
        "  </tr>\n",
        "  <tr>\n",
        "    <td><b>Cho phép thay đổi</b></td>\n",
        "    <td><font color ='aqua'>Yes</font></td>\n",
        "    <td><font color ='red'>No</font></td>\n",
        "    <td><font color ='red'>No</font></td>\n",
        "    <td><font color ='aqua'>Yes</font></td>\n",
        "  </tr>\n",
        "  </table>"
      ]
    },
    {
      "cell_type": "markdown",
      "metadata": {
        "id": "OIC62w3KkFU8",
        "colab_type": "text"
      },
      "source": [
        "##<h3><font color = 'brown'> 1. List</font></h3>\n",
        "<h4><font color = 'OLIVE'> a. Khai báo & Truy xuất </font></h4>\n",
        "<font color = 'blue'> Truy xuất 1 phần tử</font>"
      ]
    },
    {
      "cell_type": "code",
      "metadata": {
        "id": "o-rmbyS7kKlw",
        "colab_type": "code",
        "colab": {
          "base_uri": "https://localhost:8080/",
          "height": 34
        },
        "outputId": "ea639ec6-f257-4fe3-fb1a-8141565eac6f"
      },
      "source": [
        "# Khai báo và khởi tạo\n",
        "students = ['A','B','C','D']\n",
        "print(students)"
      ],
      "execution_count": null,
      "outputs": [
        {
          "output_type": "stream",
          "text": [
            "['A', 'B', 'C', 'D']\n"
          ],
          "name": "stdout"
        }
      ]
    },
    {
      "cell_type": "markdown",
      "metadata": {
        "id": "stB1CuIhlTjb",
        "colab_type": "text"
      },
      "source": [
        "<p>Để truy cập từng phần tử trong $list$ ta có thể dùng $index$ ta có thể tưởng tượng index là số thứ tự nhưng bắt đầu từ $0$</p>"
      ]
    },
    {
      "cell_type": "code",
      "metadata": {
        "id": "VF2gJe-3lGSD",
        "colab_type": "code",
        "colab": {
          "base_uri": "https://localhost:8080/",
          "height": 51
        },
        "outputId": "1eb2e426-2213-4250-a7ff-2c38bc66643c"
      },
      "source": [
        "# truy cập 1 phần tử trong list\n",
        "print(students[0])\n",
        "print(students[2])"
      ],
      "execution_count": null,
      "outputs": [
        {
          "output_type": "stream",
          "text": [
            "A\n",
            "C\n"
          ],
          "name": "stdout"
        }
      ]
    },
    {
      "cell_type": "markdown",
      "metadata": {
        "id": "a9O1GBUdlwhk",
        "colab_type": "text"
      },
      "source": [
        "<p><b>Lưu ý</b><br>Index trong python có 2 loại là: \n",
        "<li> Index thuận 0,1,2,3,4,.. chạy từ đầu đến cuối</li>\n",
        "<li> Index nghịch -1,-2,-3,-4,-5,... chạy từ cuối lên đầu</li>\n",
        "ví dụ</p> "
      ]
    },
    {
      "cell_type": "code",
      "metadata": {
        "id": "-9NixqT9lu4X",
        "colab_type": "code",
        "colab": {
          "base_uri": "https://localhost:8080/",
          "height": 85
        },
        "outputId": "82daf280-f928-4640-d27c-9aceab913ef6"
      },
      "source": [
        "# index thuận\n",
        "for i in range(len(students)):\n",
        "  print('index ',i,':',students[i])"
      ],
      "execution_count": null,
      "outputs": [
        {
          "output_type": "stream",
          "text": [
            "index  0 : A\n",
            "index  1 : B\n",
            "index  2 : C\n",
            "index  3 : D\n"
          ],
          "name": "stdout"
        }
      ]
    },
    {
      "cell_type": "code",
      "metadata": {
        "id": "mj1FIDKbmc5Z",
        "colab_type": "code",
        "colab": {
          "base_uri": "https://localhost:8080/",
          "height": 85
        },
        "outputId": "fd1fe18a-694b-4f6f-8309-97c79d937c77"
      },
      "source": [
        "#index nghịch\n",
        "for i in range(-1,-len(students)-1,-1):\n",
        "  print('index ',i,':',students[i])"
      ],
      "execution_count": null,
      "outputs": [
        {
          "output_type": "stream",
          "text": [
            "index  -1 : D\n",
            "index  -2 : C\n",
            "index  -3 : B\n",
            "index  -4 : A\n"
          ],
          "name": "stdout"
        }
      ]
    },
    {
      "cell_type": "markdown",
      "metadata": {
        "id": "4OWMXmuHnTYO",
        "colab_type": "text"
      },
      "source": [
        "<font color = 'blue'> Truy xuất nhiều phần tử cùng 1 lúc (slicing)</font>"
      ]
    },
    {
      "cell_type": "markdown",
      "metadata": {
        "id": "Qwle-FvYn6ZT",
        "colab_type": "text"
      },
      "source": [
        "Cú pháp tương tự như range()<br>\n",
        "$list[begin:end:step]$=>\n",
        "<font color = 'red'>trả về 1 $list$ mới có index chạy từ $begin$ đến $end -1$</font>\n",
        "\n",
        "\n"
      ]
    },
    {
      "cell_type": "code",
      "metadata": {
        "id": "hr2d1TeWncEO",
        "colab_type": "code",
        "colab": {
          "base_uri": "https://localhost:8080/",
          "height": 34
        },
        "outputId": "a334f63c-0fd6-4e49-c3e4-229bc4e2a619"
      },
      "source": [
        "#slicing\n",
        "students[1:4]"
      ],
      "execution_count": null,
      "outputs": [
        {
          "output_type": "execute_result",
          "data": {
            "text/plain": [
              "['B', 'C', 'D']"
            ]
          },
          "metadata": {
            "tags": []
          },
          "execution_count": 94
        }
      ]
    },
    {
      "cell_type": "markdown",
      "metadata": {
        "id": "SdklnIkOpBOO",
        "colab_type": "text"
      },
      "source": [
        "nếu không có $step$ thì python sẽ mặc định step =1"
      ]
    },
    {
      "cell_type": "code",
      "metadata": {
        "id": "lBKnel3SoP0d",
        "colab_type": "code",
        "colab": {
          "base_uri": "https://localhost:8080/",
          "height": 34
        },
        "outputId": "c75208b6-a145-4ffb-9e12-8e4c9e514b67"
      },
      "source": [
        "#slicing\n",
        "students[:3]"
      ],
      "execution_count": null,
      "outputs": [
        {
          "output_type": "execute_result",
          "data": {
            "text/plain": [
              "['A', 'B', 'C']"
            ]
          },
          "metadata": {
            "tags": []
          },
          "execution_count": 95
        }
      ]
    },
    {
      "cell_type": "markdown",
      "metadata": {
        "id": "6m1WYjqepIyh",
        "colab_type": "text"
      },
      "source": [
        "nếu không có $begin$ thì python sẽ mặc định là 0"
      ]
    },
    {
      "cell_type": "code",
      "metadata": {
        "id": "yEoU6AUkoUxk",
        "colab_type": "code",
        "colab": {
          "base_uri": "https://localhost:8080/",
          "height": 34
        },
        "outputId": "fb266763-76df-4d3b-d2b2-173fca094627"
      },
      "source": [
        "#sclicing\n",
        "students[1:]"
      ],
      "execution_count": null,
      "outputs": [
        {
          "output_type": "execute_result",
          "data": {
            "text/plain": [
              "['B', 'C', 'D']"
            ]
          },
          "metadata": {
            "tags": []
          },
          "execution_count": 96
        }
      ]
    },
    {
      "cell_type": "markdown",
      "metadata": {
        "id": "VhL6ockFpWUI",
        "colab_type": "text"
      },
      "source": [
        "Nếu không có $end$ python sẽ duyệt đến cuối mảng"
      ]
    },
    {
      "cell_type": "code",
      "metadata": {
        "id": "AMvDM4k6pVFi",
        "colab_type": "code",
        "colab": {
          "base_uri": "https://localhost:8080/",
          "height": 34
        },
        "outputId": "319725a7-d80b-4b6b-8db5-100f5382fbbe"
      },
      "source": [
        "#sciling ngược\n",
        "students[-1:-5:-1]\n"
      ],
      "execution_count": null,
      "outputs": [
        {
          "output_type": "execute_result",
          "data": {
            "text/plain": [
              "['D', 'C', 'B', 'A']"
            ]
          },
          "metadata": {
            "tags": []
          },
          "execution_count": 97
        }
      ]
    },
    {
      "cell_type": "markdown",
      "metadata": {
        "id": "jVH0NrgYzkAO",
        "colab_type": "text"
      },
      "source": [
        "<h3> thay đổi giá trị phần tử</h3>"
      ]
    },
    {
      "cell_type": "code",
      "metadata": {
        "id": "8zFvE0-xz9VI",
        "colab_type": "code",
        "colab": {
          "base_uri": "https://localhost:8080/",
          "height": 51
        },
        "outputId": "3c14ef46-376a-4693-a4c3-23c765226c52"
      },
      "source": [
        "print('trc khi đổi', students)\n",
        "students[0] = 'F'\n",
        "print('sau khi đổi', students)"
      ],
      "execution_count": null,
      "outputs": [
        {
          "output_type": "stream",
          "text": [
            "trc khi đổi ['A', 'B', 'C', 'D']\n",
            "sau khi đổi ['F', 'B', 'C', 'D']\n"
          ],
          "name": "stdout"
        }
      ]
    },
    {
      "cell_type": "markdown",
      "metadata": {
        "id": "WZhUeN8vHTpn",
        "colab_type": "text"
      },
      "source": [
        "thay đổi trực tiếp bằng cách gọi chỉ mục và gán giá trị như:\n",
        "\n",
        "\n",
        "```\n",
        "students[0] = 'F'\n",
        "```\n",
        "\n"
      ]
    },
    {
      "cell_type": "markdown",
      "metadata": {
        "id": "k8DcH4bpp4By",
        "colab_type": "text"
      },
      "source": [
        "<h4><font color = 'OLIVE'> b. Một số hàm hỗ trợ </font></h4>"
      ]
    },
    {
      "cell_type": "code",
      "metadata": {
        "id": "98yVpar5qBEh",
        "colab_type": "code",
        "colab": {
          "base_uri": "https://localhost:8080/",
          "height": 34
        },
        "outputId": "c5126acf-7e1a-41c5-9972-d938ac3c8bc2"
      },
      "source": [
        "#append(phần tử mới) - thêm 1 phần tử vào cuối\n",
        "students.append(100)\n",
        "print(students)"
      ],
      "execution_count": null,
      "outputs": [
        {
          "output_type": "stream",
          "text": [
            "['F', 'B', 'C', 'D', 100]\n"
          ],
          "name": "stdout"
        }
      ]
    },
    {
      "cell_type": "markdown",
      "metadata": {
        "id": "w9LiMNfDqbfw",
        "colab_type": "text"
      },
      "source": [
        "<b>Thêm 1 lưu ý</b>\n",
        "các phần tử trong $list$ có thể khác nhau về kiểu dữ liệu"
      ]
    },
    {
      "cell_type": "code",
      "metadata": {
        "id": "6SgBFabbqPg5",
        "colab_type": "code",
        "colab": {
          "base_uri": "https://localhost:8080/",
          "height": 34
        },
        "outputId": "a1d7bfd3-f41d-4630-e514-3cc87fc7142f"
      },
      "source": [
        "#copy() - trả về một list mới y như list cũ\n",
        "students_new = students.copy()\n",
        "print(students_new)"
      ],
      "execution_count": null,
      "outputs": [
        {
          "output_type": "stream",
          "text": [
            "['F', 'B', 'C', 'D', 100]\n"
          ],
          "name": "stdout"
        }
      ]
    },
    {
      "cell_type": "code",
      "metadata": {
        "id": "NvKqc0SFq_bn",
        "colab_type": "code",
        "colab": {
          "base_uri": "https://localhost:8080/",
          "height": 51
        },
        "outputId": "6a08616e-357e-4a2a-961a-a14971e67acf"
      },
      "source": [
        "#count(phần tử) - đếm số lượng của 1 phần tử trong list\n",
        "points = [1, 4, 2, 9, 7, 8, 9, 3, 1]\n",
        "\n",
        "x = points.count(9)\n",
        "print('số lượng 9: ',x)\n",
        "y = points.count(100)\n",
        "print('số lượng 100: ',y)"
      ],
      "execution_count": null,
      "outputs": [
        {
          "output_type": "stream",
          "text": [
            "số lượng 9:  2\n",
            "số lượng 100:  0\n"
          ],
          "name": "stdout"
        }
      ]
    },
    {
      "cell_type": "code",
      "metadata": {
        "id": "gZPoqUAXrQcu",
        "colab_type": "code",
        "colab": {
          "base_uri": "https://localhost:8080/",
          "height": 51
        },
        "outputId": "aac2fc82-e31d-49d6-ba52-8d108af00572"
      },
      "source": [
        "#extend(list_another) - nối 2 list lại với nhau thành 1\n",
        "\n",
        "fruits = ['apple', 'banana', 'cherry']\n",
        "cars = ['Ford', 'BMW', 'Volvo']\n",
        "print('list trước khi nối: ', fruits)\n",
        "\n",
        "fruits.extend(cars)\n",
        "print('list sau khi nối: ', fruits)"
      ],
      "execution_count": null,
      "outputs": [
        {
          "output_type": "stream",
          "text": [
            "list trước khi nối:  ['apple', 'banana', 'cherry']\n",
            "list sau khi nối:  ['apple', 'banana', 'cherry', 'Ford', 'BMW', 'Volvo']\n"
          ],
          "name": "stdout"
        }
      ]
    },
    {
      "cell_type": "code",
      "metadata": {
        "id": "I_HBF0Jyr16b",
        "colab_type": "code",
        "colab": {
          "base_uri": "https://localhost:8080/",
          "height": 34
        },
        "outputId": "c5c0513a-8b94-4a2e-9115-fa52a7f75a22"
      },
      "source": [
        "# index(phần tử) - trả về chỉ số đầu tiên của phần tử mình truyền vào trong list nếu không sẽ báo lỗi\n",
        "print('index F: ',students.index('F'))"
      ],
      "execution_count": null,
      "outputs": [
        {
          "output_type": "stream",
          "text": [
            "index F:  0\n"
          ],
          "name": "stdout"
        }
      ]
    },
    {
      "cell_type": "code",
      "metadata": {
        "id": "sRB8JS7fsr60",
        "colab_type": "code",
        "colab": {
          "base_uri": "https://localhost:8080/",
          "height": 34
        },
        "outputId": "44b22c28-8765-4974-a4e1-59279a7d75e9"
      },
      "source": [
        "#insert(vị trí, phần tử) - chèn 1 phần tử vào vị trí chỉ định\n",
        "\n",
        "students.insert(1,'F')\n",
        "print(students)"
      ],
      "execution_count": null,
      "outputs": [
        {
          "output_type": "stream",
          "text": [
            "['F', 'F', 'B', 'C', 'D', 100]\n"
          ],
          "name": "stdout"
        }
      ]
    },
    {
      "cell_type": "markdown",
      "metadata": {
        "id": "sEQn-ju3tV1a",
        "colab_type": "text"
      },
      "source": [
        "Nếu vị trí chèn lớn hơn số phần tử của mảng thì sẽ được thêm vào cuối như hàm append()"
      ]
    },
    {
      "cell_type": "code",
      "metadata": {
        "id": "YfgTSlhwtP4B",
        "colab_type": "code",
        "colab": {
          "base_uri": "https://localhost:8080/",
          "height": 34
        },
        "outputId": "2ca142aa-3210-4148-ae30-0f58745632db"
      },
      "source": [
        "#remove(giá trị) - xóa phần tử với 1 giá trị đặc biệt -nếu giá trị đó không có thì sẽ báo lỗi\n",
        "students.remove('F')\n",
        "students\n"
      ],
      "execution_count": null,
      "outputs": [
        {
          "output_type": "execute_result",
          "data": {
            "text/plain": [
              "['F', 'B', 'C', 'D', 100]"
            ]
          },
          "metadata": {
            "tags": []
          },
          "execution_count": 105
        }
      ]
    },
    {
      "cell_type": "code",
      "metadata": {
        "id": "8asvBztFtwql",
        "colab_type": "code",
        "colab": {
          "base_uri": "https://localhost:8080/",
          "height": 51
        },
        "outputId": "d844a86d-8c21-4f54-9266-e3a302db5d81"
      },
      "source": [
        "#clear() - xóa sạch mảng\n",
        "print('mang chưa xóa: ' ,students_new)\n",
        "students_new.clear()\n",
        "print('mảng đã xóa: ', students_new)\n"
      ],
      "execution_count": null,
      "outputs": [
        {
          "output_type": "stream",
          "text": [
            "mang chưa xóa:  ['F', 'B', 'C', 'D', 100]\n",
            "mảng đã xóa:  []\n"
          ],
          "name": "stdout"
        }
      ]
    },
    {
      "cell_type": "code",
      "metadata": {
        "id": "kbWD7mTXuMYz",
        "colab_type": "code",
        "colab": {
          "base_uri": "https://localhost:8080/",
          "height": 51
        },
        "outputId": "efa1d186-75be-4ff9-c00a-c70b914ffef4"
      },
      "source": [
        "#reverse() -đảo ngược mảng\n",
        "print('mảng trước khi đảo: ',students)\n",
        "students.reverse()\n",
        "print('mảng sau khi đảo: ',students)"
      ],
      "execution_count": null,
      "outputs": [
        {
          "output_type": "stream",
          "text": [
            "mảng trước khi đảo:  ['F', 'B', 'C', 'D', 100]\n",
            "mảng sau khi đảo:  [100, 'D', 'C', 'B', 'F']\n"
          ],
          "name": "stdout"
        }
      ]
    },
    {
      "cell_type": "markdown",
      "metadata": {
        "id": "Nx5qC9N8ukeJ",
        "colab_type": "text"
      },
      "source": [
        "<font color = 'green'> Hàm xắp sếp</font><br>\n",
        "<b>cú pháp:</b> $list$.sort($reverse$=True|False, $key$=myFunc)\n",
        "<li>reverse: tham số này để sắp xếp theo chiều tăng dần hay giảm dần. $True$ là <i>giảm dần</i>. $False$ là <i>tăng dần</i><br>Mặc định là Flase</li>\n",
        "<li>key: tham số này là tên của 1 hàm khác cho người dùng có thể sắp xếp theo tiêu chí riêng</li>"
      ]
    },
    {
      "cell_type": "code",
      "metadata": {
        "id": "5GG6oEjvuf3F",
        "colab_type": "code",
        "colab": {
          "base_uri": "https://localhost:8080/",
          "height": 34
        },
        "outputId": "f6067ec0-4b57-4d36-9fff-34dded074397"
      },
      "source": [
        "# sắp xếp điểm tăng dần\n",
        "points.sort()\n",
        "print(points)"
      ],
      "execution_count": null,
      "outputs": [
        {
          "output_type": "stream",
          "text": [
            "[1, 1, 2, 3, 4, 7, 8, 9, 9]\n"
          ],
          "name": "stdout"
        }
      ]
    },
    {
      "cell_type": "code",
      "metadata": {
        "id": "hP4RvmA3wEET",
        "colab_type": "code",
        "colab": {
          "base_uri": "https://localhost:8080/",
          "height": 34
        },
        "outputId": "eca57ebb-573b-4e38-f9e3-6cce667fee9e"
      },
      "source": [
        "# sắp xếp điểm giảm dần\n",
        "points.sort(reverse = True)\n",
        "print(points)"
      ],
      "execution_count": null,
      "outputs": [
        {
          "output_type": "stream",
          "text": [
            "[9, 9, 8, 7, 4, 3, 2, 1, 1]\n"
          ],
          "name": "stdout"
        }
      ]
    },
    {
      "cell_type": "code",
      "metadata": {
        "id": "bZ-kvn6uwM5V",
        "colab_type": "code",
        "colab": {
          "base_uri": "https://localhost:8080/",
          "height": 34
        },
        "outputId": "26393339-f3eb-4fff-dccb-232460fd869f"
      },
      "source": [
        "#sắp xếp tên theo độ dài tên \n",
        "def len_name(name):\n",
        "  return len(name)\n",
        "\n",
        "names = ['Tuan', 'Ha', 'Sang','Ngoc', 'A', 'Thuan']\n",
        "\n",
        "names.sort(key=len_name)\n",
        "print(names)"
      ],
      "execution_count": null,
      "outputs": [
        {
          "output_type": "stream",
          "text": [
            "['A', 'Ha', 'Tuan', 'Sang', 'Ngoc', 'Thuan']\n"
          ],
          "name": "stdout"
        }
      ]
    },
    {
      "cell_type": "markdown",
      "metadata": {
        "id": "JHKYTWLGxZ_0",
        "colab_type": "text"
      },
      "source": [
        "<h3><font color = 'brown'> 2. Tuples</font></h3>\n",
        "<p>Tuples <b>hạn chế</b> hơn list</p>\n",
        "<li>Khai báo bằng ngoặc tròn $()$</li>\n",
        "<li>Không thêm hoặc xóa 1 phần tử được - chỉ có thể xóa toàn bộ Tuples</li>\n",
        "<li>Không thể thay đổi giá trị phần tử đã lưu\n",
        "\n",
        "</li>"
      ]
    },
    {
      "cell_type": "code",
      "metadata": {
        "id": "zscydMM3xf4p",
        "colab_type": "code",
        "colab": {
          "base_uri": "https://localhost:8080/",
          "height": 34
        },
        "outputId": "94d33bed-09ae-45e3-e07d-ece26faa5bf2"
      },
      "source": [
        "# khai báo \n",
        "tuples = ('b','a','c','a')\n",
        "print(tuples[0])\n"
      ],
      "execution_count": null,
      "outputs": [
        {
          "output_type": "stream",
          "text": [
            "b\n"
          ],
          "name": "stdout"
        }
      ]
    },
    {
      "cell_type": "code",
      "metadata": {
        "id": "3FqLQCcc0YzB",
        "colab_type": "code",
        "colab": {
          "base_uri": "https://localhost:8080/",
          "height": 34
        },
        "outputId": "501b8721-9155-4486-8442-f42affb9ea8f"
      },
      "source": [
        "#sclicing\n",
        "print(tuples[:])"
      ],
      "execution_count": null,
      "outputs": [
        {
          "output_type": "stream",
          "text": [
            "('b', 'a', 'c', 'a')\n"
          ],
          "name": "stdout"
        }
      ]
    },
    {
      "cell_type": "code",
      "metadata": {
        "id": "2xEuPq5n7d_0",
        "colab_type": "code",
        "colab": {
          "base_uri": "https://localhost:8080/",
          "height": 51
        },
        "outputId": "46886794-6a23-4b0a-f55f-bfab3e9ad3b3"
      },
      "source": [
        "#index và count\n",
        "print(tuples.index('a'))\n",
        "\n",
        "print(tuples.count('a'))"
      ],
      "execution_count": null,
      "outputs": [
        {
          "output_type": "stream",
          "text": [
            "1\n",
            "2\n"
          ],
          "name": "stdout"
        }
      ]
    },
    {
      "cell_type": "code",
      "metadata": {
        "id": "VNfoSl2j0cyr",
        "colab_type": "code",
        "colab": {
          "base_uri": "https://localhost:8080/",
          "height": 51
        },
        "outputId": "0a6d5725-6036-4ab9-9f0c-423f71678c43"
      },
      "source": [
        "#sorted\n",
        "list_sorted = sorted(tuples)\n",
        "print('tuples: ', tuples )\n",
        "print('list mới: ', list_sorted )"
      ],
      "execution_count": null,
      "outputs": [
        {
          "output_type": "stream",
          "text": [
            "tuples:  ('b', 'a', 'c', 'a')\n",
            "list mới:  ['a', 'a', 'b', 'c']\n"
          ],
          "name": "stdout"
        }
      ]
    },
    {
      "cell_type": "markdown",
      "metadata": {
        "id": "kCY8J_nv04Om",
        "colab_type": "text"
      },
      "source": [
        "bản thân tuples không thể sắp xếp tuy nhiên ta có thể dùng hàm $sorted()$ của python để sắp xếp. Kết quả trả về là 1 $list$ đã sắp xếp dựa trên $tuples$ "
      ]
    },
    {
      "cell_type": "markdown",
      "metadata": {
        "id": "b9j0vf7k7Kam",
        "colab_type": "text"
      },
      "source": [
        "tupples thường được sử dụng trong các trường hợp không muốn dữ liệu bị thay đổi"
      ]
    },
    {
      "cell_type": "markdown",
      "metadata": {
        "id": "8FGbjtxF7xea",
        "colab_type": "text"
      },
      "source": [
        "<h3><font color = 'brown'> 3. Sets</font></h3>"
      ]
    },
    {
      "cell_type": "markdown",
      "metadata": {
        "id": "LsWTjmPC8DVY",
        "colab_type": "text"
      },
      "source": [
        "<li>Set là kiểu dữ liệu tập hợp</li> \n",
        "<li>không sắp xếp</li>\n",
        "<li>không index</li>\n",
        "<li>không thể thay đổi</li>\n",
        "<li>không thể trùng</li>\n",
        "<li>Nhưng có thể thêm - Xóa phần tử</li>\n"
      ]
    },
    {
      "cell_type": "code",
      "metadata": {
        "id": "fLvXnZql7Z0T",
        "colab_type": "code",
        "colab": {}
      },
      "source": [
        "# Khai báo & khởi tạo\n",
        "fruits_set = {\"apple\", \"banana\", \"cherry\"}\n"
      ],
      "execution_count": null,
      "outputs": []
    },
    {
      "cell_type": "code",
      "metadata": {
        "id": "Wy_p6dBv9Rop",
        "colab_type": "code",
        "colab": {
          "base_uri": "https://localhost:8080/",
          "height": 68
        },
        "outputId": "73063b04-3dcf-41ae-c91d-905f11b739a9"
      },
      "source": [
        "#tuy không thể truy cập từng phần tử bằng index - nhưng vẫn có thể duyệt bằng for\n",
        "for x in fruits_set:\n",
        "  print(x)"
      ],
      "execution_count": null,
      "outputs": [
        {
          "output_type": "stream",
          "text": [
            "apple\n",
            "banana\n",
            "cherry\n"
          ],
          "name": "stdout"
        }
      ]
    },
    {
      "cell_type": "code",
      "metadata": {
        "id": "09BZidGn9alw",
        "colab_type": "code",
        "colab": {
          "base_uri": "https://localhost:8080/",
          "height": 34
        },
        "outputId": "f2a79c4a-ef1a-4157-f3cc-130042ae36c7"
      },
      "source": [
        "# thêm 1 phần tử -add()\n",
        "fruits_set.add(\"orange\")\n",
        "print(fruits_set)"
      ],
      "execution_count": null,
      "outputs": [
        {
          "output_type": "stream",
          "text": [
            "{'orange', 'apple', 'banana', 'cherry'}\n"
          ],
          "name": "stdout"
        }
      ]
    },
    {
      "cell_type": "code",
      "metadata": {
        "id": "CltrFIom9l89",
        "colab_type": "code",
        "colab": {
          "base_uri": "https://localhost:8080/",
          "height": 34
        },
        "outputId": "071608e9-3db3-4d4a-90bc-44c5db48413c"
      },
      "source": [
        "#thêm nhiều phần tử - update()\n",
        "fruits_set.update([\"orange\", \"mango\", \"grapes\"])\n",
        "print(fruits_set)"
      ],
      "execution_count": null,
      "outputs": [
        {
          "output_type": "stream",
          "text": [
            "{'grapes', 'cherry', 'mango', 'apple', 'banana', 'orange'}\n"
          ],
          "name": "stdout"
        }
      ]
    },
    {
      "cell_type": "markdown",
      "metadata": {
        "id": "JlOeJFvD933j",
        "colab_type": "text"
      },
      "source": [
        "Khi thêm vào bị trùng phần tử $orange$ $set$ sẽ loại bỏ 1 phần tử. Và vì không có thứ tự nên set sắp xếp 1 cách ngẫu nhiên các phần tử"
      ]
    },
    {
      "cell_type": "code",
      "metadata": {
        "id": "qlPl6pMV9oPk",
        "colab_type": "code",
        "colab": {
          "base_uri": "https://localhost:8080/",
          "height": 34
        },
        "outputId": "6372c420-e11c-4e1f-9738-d5cd2888c5ea"
      },
      "source": [
        "# xóa 1 phần tử\n",
        "fruits_set.remove(\"orange\")\n",
        "print(fruits_set)"
      ],
      "execution_count": null,
      "outputs": [
        {
          "output_type": "stream",
          "text": [
            "{'grapes', 'cherry', 'mango', 'apple', 'banana'}\n"
          ],
          "name": "stdout"
        }
      ]
    },
    {
      "cell_type": "markdown",
      "metadata": {
        "id": "BFTOLY_0-iC2",
        "colab_type": "text"
      },
      "source": [
        "Khi dùng lệnh $remove()$ mà phần tử không có trong set sẽ bị lỗi. Do đó ta sẽ dùng $discard()$ thay cho remove()"
      ]
    },
    {
      "cell_type": "code",
      "metadata": {
        "id": "57K-_jpD-gem",
        "colab_type": "code",
        "colab": {
          "base_uri": "https://localhost:8080/",
          "height": 34
        },
        "outputId": "9935ccc3-6c46-44b3-dfd1-1aeb02f4f7a7"
      },
      "source": [
        "#xóa phần tử khi dùng discard\n",
        "fruits_set.discard(\"mango\")\n",
        "print(fruits_set)\n",
        "fruits_set.discard(\"mango\")"
      ],
      "execution_count": null,
      "outputs": [
        {
          "output_type": "stream",
          "text": [
            "{'grapes', 'cherry', 'apple', 'banana'}\n"
          ],
          "name": "stdout"
        }
      ]
    },
    {
      "cell_type": "markdown",
      "metadata": {
        "id": "1QyKxbZM4hbp",
        "colab_type": "text"
      },
      "source": [
        "<h3><font color = 'brown'> 4. Dictionary</font></h3>\n",
        "<li>Ta có 1 mảng các phần tử <font color = 'blue'>['Cam', 'Nho', 'Lê', 'Chuối', 'Táo']</font></li>\n",
        "<li>Tuy nhiên nếu có thêm yêu cầu biết số lượng của từng loại thì lúc này các kiểu dữ liệu trước đó không đáp ứng được nhu cầu này?</li>\n",
        "=> Dictionary ra đời để giải quyết vấn đề này\n",
        "\n",
        "<h4><font color = 'OLIVE'> a. Cú Pháp </font></h4>\n",
        "\n",
        "\n",
        "```\n",
        "dic_ = {key1 : value1,\n",
        "        key2 : value2,\n",
        "        key3 : value3,\n",
        "        .............,\n",
        "        key_n: value_n\n",
        "        }\n",
        "ví dụ\n",
        "dic_fruits = {'cam' : 2,\n",
        "              'Nho' : 5,\n",
        "              'Lê'  : 7,\n",
        "              'Chuối': 2,\n",
        "              'Táo' : 10\n",
        "              }\n",
        "\n",
        "            \n",
        "```\n",
        "\n"
      ]
    },
    {
      "cell_type": "code",
      "metadata": {
        "id": "rGAM0D4Z5lGZ",
        "colab_type": "code",
        "colab": {
          "base_uri": "https://localhost:8080/",
          "height": 51
        },
        "outputId": "2674d2c7-540b-4bcc-8af9-27f1b23685ca"
      },
      "source": [
        "#khai báo và khởi tạo\n",
        "dic_fruits = {'cam' : 2,\n",
        "              'Nho' : 5,\n",
        "              'Lê'  : 7,\n",
        "              'Chuối': 2,\n",
        "              'Táo' : 10\n",
        "              }\n",
        "\n",
        "print(dic_fruits)\n",
        "print(type(dic_fruits))"
      ],
      "execution_count": null,
      "outputs": [
        {
          "output_type": "stream",
          "text": [
            "{'cam': 2, 'Nho': 5, 'Lê': 7, 'Chuối': 2, 'Táo': 10}\n",
            "<class 'dict'>\n"
          ],
          "name": "stdout"
        }
      ]
    },
    {
      "cell_type": "markdown",
      "metadata": {
        "id": "R2y-7u1U9Mh5",
        "colab_type": "text"
      },
      "source": [
        "<h4><font color = 'OLIVE'> b. Cách sử dụng </font></h4>"
      ]
    },
    {
      "cell_type": "code",
      "metadata": {
        "id": "6xXk6gPC8e5z",
        "colab_type": "code",
        "colab": {
          "base_uri": "https://localhost:8080/",
          "height": 51
        },
        "outputId": "c699d20d-4ea0-4884-c252-6e77437f288b"
      },
      "source": [
        "# truy cập phần tử bằng key\n",
        "print(dic_fruits['cam'])\n",
        "\n",
        "# có thể dùng hàm get()\n",
        "print(dic_fruits.get('cam'))"
      ],
      "execution_count": null,
      "outputs": [
        {
          "output_type": "stream",
          "text": [
            "2\n",
            "2\n"
          ],
          "name": "stdout"
        }
      ]
    },
    {
      "cell_type": "markdown",
      "metadata": {
        "id": "kuMJnDabJXXa",
        "colab_type": "text"
      },
      "source": [
        "ta không thể truy xuất giá trị bằng index như trong list<br>\n",
        "các bạn có thể copy thử dòng lệnh này\n",
        "\n",
        "\n",
        "```\n",
        "print(dic_fruits[0])\n",
        "```\n",
        "\n"
      ]
    },
    {
      "cell_type": "code",
      "metadata": {
        "id": "rK10l5h58-qi",
        "colab_type": "code",
        "colab": {
          "base_uri": "https://localhost:8080/",
          "height": 51
        },
        "outputId": "18eb7b95-3114-4c24-8ddc-4416c32c5fb4"
      },
      "source": [
        "# thay đổi giá trị của value\n",
        "print('trước khi đổi giá trị của Táo: ',dic_fruits['Táo'])\n",
        "dic_fruits['Táo'] = 1\n",
        "print('Sau khi đổi giá trị của Táo: ',dic_fruits['Táo'])"
      ],
      "execution_count": null,
      "outputs": [
        {
          "output_type": "stream",
          "text": [
            "trước khi đổi giá trị của Táo:  10\n",
            "Sau khi đổi giá trị của Táo:  1\n"
          ],
          "name": "stdout"
        }
      ]
    },
    {
      "cell_type": "markdown",
      "metadata": {
        "id": "fKXUMCq_I-Sh",
        "colab_type": "text"
      },
      "source": [
        "Ta thấy để thay đổi ta có thể dùng key để truy xuất và gán giá trị mới trực tiếp"
      ]
    },
    {
      "cell_type": "markdown",
      "metadata": {
        "id": "q2YNvz3r_X4B",
        "colab_type": "text"
      },
      "source": [
        "\n",
        "<font color = 'blue'>Duyệt dictionary</font>\n",
        "\n",
        "\n"
      ]
    },
    {
      "cell_type": "code",
      "metadata": {
        "id": "j5tOEINv9dkO",
        "colab_type": "code",
        "colab": {
          "base_uri": "https://localhost:8080/",
          "height": 102
        },
        "outputId": "65195212-d3c5-45c6-8af9-899366e164e9"
      },
      "source": [
        "#Duyệt dictionary\n",
        "\n",
        "for fruit in dic_fruits:\n",
        "  print(fruit)"
      ],
      "execution_count": null,
      "outputs": [
        {
          "output_type": "stream",
          "text": [
            "cam\n",
            "Nho\n",
            "Lê\n",
            "Chuối\n",
            "Táo\n"
          ],
          "name": "stdout"
        }
      ]
    },
    {
      "cell_type": "markdown",
      "metadata": {
        "id": "UsnD2TBC-Ikg",
        "colab_type": "text"
      },
      "source": [
        "Nếu duyệt vòng for bình thường ta có thể thấy các giá trị lần lược là các $key$ của $dictionnary$\n",
        "<br>Vậy để duyệt truy cập vào các $value$ của $dictionary$ ta có thể làm theo cách sau"
      ]
    },
    {
      "cell_type": "code",
      "metadata": {
        "id": "Zx6hD7kK-GDj",
        "colab_type": "code",
        "colab": {
          "base_uri": "https://localhost:8080/",
          "height": 102
        },
        "outputId": "55d3fce4-38f9-4c73-8ca9-a1e2e08fe66e"
      },
      "source": [
        "# cách 1\n",
        "for fruit in dic_fruits:\n",
        "  print(dic_fruits[fruit])"
      ],
      "execution_count": null,
      "outputs": [
        {
          "output_type": "stream",
          "text": [
            "2\n",
            "5\n",
            "7\n",
            "2\n",
            "1\n"
          ],
          "name": "stdout"
        }
      ]
    },
    {
      "cell_type": "code",
      "metadata": {
        "id": "2g1g0XUj-nc-",
        "colab_type": "code",
        "colab": {
          "base_uri": "https://localhost:8080/",
          "height": 102
        },
        "outputId": "d2365889-2ac1-43e9-9345-962a6e34f22d"
      },
      "source": [
        "#cách 2\n",
        "for fruit_value in dic_fruits.values():\n",
        "  print(fruit_value)"
      ],
      "execution_count": null,
      "outputs": [
        {
          "output_type": "stream",
          "text": [
            "2\n",
            "5\n",
            "7\n",
            "2\n",
            "1\n"
          ],
          "name": "stdout"
        }
      ]
    },
    {
      "cell_type": "code",
      "metadata": {
        "id": "Z6q5tga7-xrQ",
        "colab_type": "code",
        "colab": {
          "base_uri": "https://localhost:8080/",
          "height": 102
        },
        "outputId": "3c6cec46-b626-4a06-f405-db438598a2bb"
      },
      "source": [
        "#cách 3 \n",
        "for key,value in dic_fruits.items():\n",
        "  print(key, '\\t',value)   #'\\t' là dấu tab"
      ],
      "execution_count": null,
      "outputs": [
        {
          "output_type": "stream",
          "text": [
            "cam \t 2\n",
            "Nho \t 5\n",
            "Lê \t 7\n",
            "Chuối \t 2\n",
            "Táo \t 1\n"
          ],
          "name": "stdout"
        }
      ]
    },
    {
      "cell_type": "markdown",
      "metadata": {
        "id": "hfHcdNsWGRWk",
        "colab_type": "text"
      },
      "source": [
        "Ta thấy cách 1 và 2 có kết quả trả về giống nhau<br>\n",
        "nhưng cách 3 trả về 2 kết quả là $key$ và $value$ tương tự như hàm $enumerate()$"
      ]
    },
    {
      "cell_type": "markdown",
      "metadata": {
        "id": "PDFfmERg_vge",
        "colab_type": "text"
      },
      "source": [
        "<font color = 'blue'>Check $key$ có xuất hiện trong $dictionary$ không? \n"
      ]
    },
    {
      "cell_type": "code",
      "metadata": {
        "id": "wtOSFynA_Eel",
        "colab_type": "code",
        "colab": {
          "base_uri": "https://localhost:8080/",
          "height": 34
        },
        "outputId": "824dee44-ff38-4278-cfce-d83df322875d"
      },
      "source": [
        "is_exists = 'cam' in dic_fruits\n",
        "\n",
        "print(is_exists)"
      ],
      "execution_count": null,
      "outputs": [
        {
          "output_type": "stream",
          "text": [
            "True\n"
          ],
          "name": "stdout"
        }
      ]
    },
    {
      "cell_type": "markdown",
      "metadata": {
        "id": "DPZBUNQCMCN7",
        "colab_type": "text"
      },
      "source": [
        "<font color ='blue'>Thêm item vào dictionary</font>"
      ]
    },
    {
      "cell_type": "code",
      "metadata": {
        "id": "IrNkcicJANv-",
        "colab_type": "code",
        "colab": {
          "base_uri": "https://localhost:8080/",
          "height": 34
        },
        "outputId": "22c1a83a-759f-4ef1-9f3a-ff62e4b89793"
      },
      "source": [
        "dic_fruits['kiwi'] = 3\n",
        "print(dic_fruits)"
      ],
      "execution_count": null,
      "outputs": [
        {
          "output_type": "stream",
          "text": [
            "{'cam': 2, 'Nho': 5, 'Lê': 7, 'Chuối': 2, 'Táo': 1, 'kiwi': 3}\n"
          ],
          "name": "stdout"
        }
      ]
    },
    {
      "cell_type": "markdown",
      "metadata": {
        "id": "EKrCycdZMhGU",
        "colab_type": "text"
      },
      "source": [
        "ta có thể thêm item trực tiếp\n",
        "\n",
        "\n",
        "```\n",
        "dic[new_key] = new_value\n",
        "```\n",
        "\n"
      ]
    },
    {
      "cell_type": "markdown",
      "metadata": {
        "id": "AHBGg1BpM6y8",
        "colab_type": "text"
      },
      "source": [
        "<font color = 'blue'>xóa item trong dictionary</font>\n",
        "\n",
        "1.   $dic.pop(key)$\n",
        "2.   <font color = 'blue'>del</font> $dic[key]$\n",
        "\n"
      ]
    },
    {
      "cell_type": "code",
      "metadata": {
        "id": "Oqf0X6rqMY69",
        "colab_type": "code",
        "colab": {
          "base_uri": "https://localhost:8080/",
          "height": 34
        },
        "outputId": "1c084593-7740-4c3f-e1de-13a010c2f55c"
      },
      "source": [
        "dic_fruits.pop('kiwi')\n",
        "print(dic_fruits)"
      ],
      "execution_count": null,
      "outputs": [
        {
          "output_type": "stream",
          "text": [
            "{'cam': 2, 'Nho': 5, 'Lê': 7, 'Chuối': 2, 'Táo': 1}\n"
          ],
          "name": "stdout"
        }
      ]
    },
    {
      "cell_type": "code",
      "metadata": {
        "id": "WE9OR2drNwBI",
        "colab_type": "code",
        "colab": {
          "base_uri": "https://localhost:8080/",
          "height": 34
        },
        "outputId": "9ef6ebab-50a7-404d-d1f6-37ce614c336a"
      },
      "source": [
        "del dic_fruits['cam']\n",
        "print(dic_fruits)"
      ],
      "execution_count": null,
      "outputs": [
        {
          "output_type": "stream",
          "text": [
            "{'Nho': 5, 'Lê': 7, 'Chuối': 2, 'Táo': 1}\n"
          ],
          "name": "stdout"
        }
      ]
    },
    {
      "cell_type": "markdown",
      "metadata": {
        "id": "LNJpVl_zN39D",
        "colab_type": "text"
      },
      "source": [
        "2 cách trên đều có kết quả như nhau. "
      ]
    },
    {
      "cell_type": "code",
      "metadata": {
        "id": "UEGzzCz-NTrx",
        "colab_type": "code",
        "colab": {
          "base_uri": "https://localhost:8080/",
          "height": 34
        },
        "outputId": "94d541d3-68c0-410c-ee3b-d9891a6690ea"
      },
      "source": [
        "# xóa hết các phần tử\n",
        "dic_fruits.clear()\n",
        "print(dic_fruits)"
      ],
      "execution_count": null,
      "outputs": [
        {
          "output_type": "stream",
          "text": [
            "{}\n"
          ],
          "name": "stdout"
        }
      ]
    },
    {
      "cell_type": "code",
      "metadata": {
        "id": "StKaVL3IOKaC",
        "colab_type": "code",
        "colab": {}
      },
      "source": [
        ""
      ],
      "execution_count": null,
      "outputs": []
    }
  ]
}