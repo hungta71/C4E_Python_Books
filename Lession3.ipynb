{
  "nbformat": 4,
  "nbformat_minor": 0,
  "metadata": {
    "colab": {
      "name": "Lession3.ipynb",
      "provenance": [],
      "collapsed_sections": [],
      "include_colab_link": true
    },
    "kernelspec": {
      "name": "python3",
      "display_name": "Python 3"
    }
  },
  "cells": [
    {
      "cell_type": "markdown",
      "metadata": {
        "id": "view-in-github",
        "colab_type": "text"
      },
      "source": [
        "<a href=\"https://colab.research.google.com/github/phamhoangtin/C4E_Python_Books/blob/master/Lession3.ipynb\" target=\"_parent\"><img src=\"https://colab.research.google.com/assets/colab-badge.svg\" alt=\"Open In Colab\"/></a>"
      ]
    },
    {
      "cell_type": "markdown",
      "metadata": {
        "id": "6iNhu0GzOu0G",
        "colab_type": "text"
      },
      "source": [
        "<h1>Hàm<br>OOP trong Python</h1>\n",
        "<h2><font color = 'orange'> I. Hàm</font></h2>\n",
        "<h2>Giới thiệu</h2>\n",
        "Bài toán hãy tính diện tích và chu vi của 1 hình chữ nhật khi biết chiều dài và chiều rộng của nó.\n",
        "<ol>\n",
        "<li>hình chữ nhật 1 dài $3$ rộng $4$</Li>\n",
        "<li>hình chữ nhật 2 dài $4$ rộng $5$</Li>\n",
        "<li>hình chữ nhật 3 dài $5$ rộng $6$</Li>\n",
        "<li>hình chữ nhật 4 dài $6$ rộng $7$</Li>\n",
        "<li>hình chữ nhật 5 dài $7$ rộng $8$</Li>\n",
        "\n",
        "</ol>"
      ]
    },
    {
      "cell_type": "code",
      "metadata": {
        "id": "r225H2kqOnBi",
        "colab_type": "code",
        "colab": {
          "base_uri": "https://localhost:8080/",
          "height": 51
        },
        "outputId": "f5573e54-9457-40fd-ef55-6a782b939d37"
      },
      "source": [
        "#hình 1 \n",
        "chu_vi_1 = (3+4)*2\n",
        "dien_tich_1 = 3*4 \n",
        "print(chu_vi_1)\n",
        "print(dien_tich_1)"
      ],
      "execution_count": null,
      "outputs": [
        {
          "output_type": "stream",
          "text": [
            "14\n",
            "12\n"
          ],
          "name": "stdout"
        }
      ]
    },
    {
      "cell_type": "code",
      "metadata": {
        "id": "0M2_NuCKP0K3",
        "colab_type": "code",
        "colab": {
          "base_uri": "https://localhost:8080/",
          "height": 51
        },
        "outputId": "5638fca5-60b2-4ba8-e52b-adad8d45efc3"
      },
      "source": [
        "#hình 2\n",
        "chu_vi_2 = (4+5)*2\n",
        "dien_tich_2 = 4*5\n",
        "print(chu_vi_2)\n",
        "print(dien_tich_2)"
      ],
      "execution_count": null,
      "outputs": [
        {
          "output_type": "stream",
          "text": [
            "18\n",
            "20\n"
          ],
          "name": "stdout"
        }
      ]
    },
    {
      "cell_type": "code",
      "metadata": {
        "id": "wO-A9gdYQLDJ",
        "colab_type": "code",
        "colab": {
          "base_uri": "https://localhost:8080/",
          "height": 51
        },
        "outputId": "e1f4190c-994a-4430-9350-0ecc4da2f22f"
      },
      "source": [
        "#hình 3\n",
        "chu_vi_3 = (5+6)*2\n",
        "dien_tich_3 = 5*6\n",
        "print(chu_vi_3)\n",
        "print(dien_tich_3)"
      ],
      "execution_count": null,
      "outputs": [
        {
          "output_type": "stream",
          "text": [
            "22\n",
            "30\n"
          ],
          "name": "stdout"
        }
      ]
    },
    {
      "cell_type": "markdown",
      "metadata": {
        "id": "TYezg0HKQFwW",
        "colab_type": "text"
      },
      "source": [
        "...... tương tự vậy ta tính đến hình chữ nhật thứ 5\n"
      ]
    },
    {
      "cell_type": "markdown",
      "metadata": {
        "id": "9LfLZQu2QSJz",
        "colab_type": "text"
      },
      "source": [
        "<b>Nhận xét:</b><br>\n",
        "Ta thấy việc tính **chu vi** và **diện tích** hình chữ nhật là một công việc có tính chất lặp đi lặp lại chỉ khác nhau ở các chiều dài và chiều rộng<br>\n",
        "=> nếu ta có $1000$ hình chữ nhật cần tính thì ta phả thực hiện 1 công việc $1000$ lần<br><font color = 'green'>Ta đã học qua $biến(variable)$ vậy liệu rằng ta có thể khai báo chức năng tính chu vi và diện tích hình chữ nhật *1 lần* và lưu vào *1 cái tên* khi cần thì gọi đến mà dùng???</font>\n"
      ]
    },
    {
      "cell_type": "markdown",
      "metadata": {
        "id": "LfQX2p-yRLcd",
        "colab_type": "text"
      },
      "source": [
        "<h2>Hàm là gì?</h2>\n",
        "Việc ta <b>\"Đóng gói\"</b> các dòng code vào <b>1 cái tên</b> để thực hiện <b>1 chức năng</b> có thể sử dụng nhiều lần.<br> => <b>cái tên</b> đó được gọi là hàm<br>\n",
        "Để rõ hơn ta sẽ giải quyết bài toán tính chu vi và diện tích hình chữ nhật bằng hàm\n"
      ]
    },
    {
      "cell_type": "code",
      "metadata": {
        "id": "D794L00rQChA",
        "colab_type": "code",
        "colab": {}
      },
      "source": [
        "def Tinh_ChuVi_DienTich_HCN(rong,dai):\n",
        "  chu_vi = (dai+rong)*2\n",
        "  dien_tich = dai*rong\n",
        "  return chu_vi,dien_tich"
      ],
      "execution_count": null,
      "outputs": []
    },
    {
      "cell_type": "code",
      "metadata": {
        "id": "TJe4AtiNTS7r",
        "colab_type": "code",
        "colab": {
          "base_uri": "https://localhost:8080/",
          "height": 34
        },
        "outputId": "0ab1753a-afd5-4070-dcb2-50fe7292bf68"
      },
      "source": [
        "#hình chữ nhật 1\n",
        "chuVi1,dienTich1 = Tinh_ChuVi_DienTich_HCN(3,4)\n",
        "print(chuVi1,dienTich1)"
      ],
      "execution_count": null,
      "outputs": [
        {
          "output_type": "stream",
          "text": [
            "14 12\n"
          ],
          "name": "stdout"
        }
      ]
    },
    {
      "cell_type": "code",
      "metadata": {
        "id": "ph0DYCsBTo6B",
        "colab_type": "code",
        "colab": {
          "base_uri": "https://localhost:8080/",
          "height": 34
        },
        "outputId": "b2934472-acb6-49ac-fb4a-225615f5c847"
      },
      "source": [
        "#hình chữ nhật 2\n",
        "chuVi2,dienTich2 = Tinh_ChuVi_DienTich_HCN(4,5)\n",
        "print(chuVi2,dienTich2)"
      ],
      "execution_count": null,
      "outputs": [
        {
          "output_type": "stream",
          "text": [
            "18 20\n"
          ],
          "name": "stdout"
        }
      ]
    },
    {
      "cell_type": "code",
      "metadata": {
        "id": "IAvkp5DgT5ME",
        "colab_type": "code",
        "colab": {
          "base_uri": "https://localhost:8080/",
          "height": 34
        },
        "outputId": "39915716-d1f6-4e8b-e6fd-f650d5c1b1ff"
      },
      "source": [
        "#hình chữ nhật 3\n",
        "chuVi3,dienTich3 = Tinh_ChuVi_DienTich_HCN(5,6)\n",
        "print(chuVi3,dienTich3)"
      ],
      "execution_count": null,
      "outputs": [
        {
          "output_type": "stream",
          "text": [
            "22 30\n"
          ],
          "name": "stdout"
        }
      ]
    },
    {
      "cell_type": "markdown",
      "metadata": {
        "id": "gLCz1rNeUDZz",
        "colab_type": "text"
      },
      "source": [
        "### cấu tạo 1 hàm\n",
        "\n",
        "<font color='blue'>def</font> <font color='olive'>Tên_Hàm</font>(các tham số):<br>\n",
        "  <font color='green'>#các đoạn code</font><br>\n",
        "  <font color='purple'>   return</font> giá_trị_trả_về\n",
        "\n"
      ]
    },
    {
      "cell_type": "markdown",
      "metadata": {
        "id": "_M38GPx_VA3V",
        "colab_type": "text"
      },
      "source": [
        "<ul>\n",
        "<li><font color='blue'>def</font> đây là $keyword$ để khai báo tên hàm</li>\n",
        "<li><b>Tên hàm:</b> ở đây các bạn đặt tên gì cũng được nhưng nên đặt tên có ý nghĩa nói lên được chức năng của Hàm </li>\n",
        "<li><b>Các tham số:</b> tham số đầu vào là các <u>thông tin</u> cần có để hàm thực hiện được chức năng. nếu bài toán không có thông tin thì ta để dấu $()$ trống<br> Ví dụ trong bài tính diện tích và chu vi hình chữ nhật thông tin cần phải có là chiều dài và chiều rộng của hình chữ nhật. Nếu không có các thông tin đó ta không thể tính được </li>\n",
        "<li><font color='purple'>return</font>: đây là tham số mà ta muốn hàm trả về kết quả cho ta sau khi thực hiện tính toán.<br>\n",
        "Ví dụ trong hàm <i>Tinh_ChuVi_DienTich_HCN</i> kết quả trả về là <i>chu vi</i> và <i>diện tích</i>. Nên ta sẽ đặt 2 biến này ở <font color='purple'>return</font><br>\n",
        "<b>Lưu ý:</b>Khi hàm gặp lệnh <font color='purple'>return</font> sẽ lập tức dừng hàm và thoát ra ngoài cho dù còn các câu lệnh phía dưới. Tương tự lệnh <font color='purple'>break</font> trong vòng lặp</li>\n",
        "</ul>"
      ]
    },
    {
      "cell_type": "markdown",
      "metadata": {
        "id": "_FqFBwuVXKM6",
        "colab_type": "text"
      },
      "source": [
        "## Một số ví dụ về Hàm"
      ]
    },
    {
      "cell_type": "markdown",
      "metadata": {
        "id": "pZTGySGPXS0X",
        "colab_type": "text"
      },
      "source": [
        "1. Hàm in ra các số chẵn nhỏ hơn 1 số cho trước"
      ]
    },
    {
      "cell_type": "code",
      "metadata": {
        "id": "B4d2Y3G1XQoj",
        "colab_type": "code",
        "colab": {}
      },
      "source": [
        "def Even_Number(num):\n",
        "  for i in range(0,num,2):\n",
        "    print(i)\n",
        "  return\n"
      ],
      "execution_count": null,
      "outputs": []
    },
    {
      "cell_type": "code",
      "metadata": {
        "id": "85frLpVIYvWZ",
        "colab_type": "code",
        "colab": {
          "base_uri": "https://localhost:8080/",
          "height": 187
        },
        "outputId": "ecec9775-85bb-4d8b-d1cc-dc8ef0e1bde6"
      },
      "source": [
        "#in các số chẵn nhỏ hơn 20\n",
        "Even_Number(20)"
      ],
      "execution_count": null,
      "outputs": [
        {
          "output_type": "stream",
          "text": [
            "0\n",
            "2\n",
            "4\n",
            "6\n",
            "8\n",
            "10\n",
            "12\n",
            "14\n",
            "16\n",
            "18\n"
          ],
          "name": "stdout"
        }
      ]
    },
    {
      "cell_type": "markdown",
      "metadata": {
        "id": "XTQ8S_VVY-tv",
        "colab_type": "text"
      },
      "source": [
        "Hàm trên có chức năng là in ra màn hình nên ta sẽ không có kết quả trả về nên lệnh return sẽ để trống"
      ]
    },
    {
      "cell_type": "markdown",
      "metadata": {
        "id": "tj5hgSsKdGD5",
        "colab_type": "text"
      },
      "source": [
        "2. Hàm in ra hình tam giác"
      ]
    },
    {
      "cell_type": "code",
      "metadata": {
        "id": "pkYhcI9zY3gY",
        "colab_type": "code",
        "colab": {}
      },
      "source": [
        "# hàm in hình tam giác\n",
        "def Print_Triangle():\n",
        "  for i in range(1,8):\n",
        "    for j in range(i,7):\n",
        "      print(' ',end='')\n",
        "    for k in range(1,2*i):\n",
        "      print('*',end='')\n",
        "    print()\n",
        "    \n",
        "  return\n"
      ],
      "execution_count": null,
      "outputs": []
    },
    {
      "cell_type": "code",
      "metadata": {
        "id": "mksrglLacF3O",
        "colab_type": "code",
        "colab": {
          "base_uri": "https://localhost:8080/",
          "height": 136
        },
        "outputId": "8d00ea50-4275-47af-8505-43cd23061827"
      },
      "source": [
        "Print_Triangle()"
      ],
      "execution_count": null,
      "outputs": [
        {
          "output_type": "stream",
          "text": [
            "      *\n",
            "     ***\n",
            "    *****\n",
            "   *******\n",
            "  *********\n",
            " ***********\n",
            "*************\n"
          ],
          "name": "stdout"
        }
      ]
    },
    {
      "cell_type": "markdown",
      "metadata": {
        "id": "tONXyc8fc0mt",
        "colab_type": "text"
      },
      "source": [
        "Ta thấy bài toán in hình tam giác ta không muốn đặt tham số đầu vào nên ta để trống dấu $()$ và cả giá trị $return$"
      ]
    },
    {
      "cell_type": "markdown",
      "metadata": {
        "id": "mnn8z-9pdTV7",
        "colab_type": "text"
      },
      "source": [
        "3. Bài toán tìm số lớn nhất trong dãy số"
      ]
    },
    {
      "cell_type": "code",
      "metadata": {
        "id": "9fISu8HXcKXb",
        "colab_type": "code",
        "colab": {}
      },
      "source": [
        "def Max_list(list_num):\n",
        "  max = 0\n",
        "  for i in list_num:\n",
        "    if(i>=max):\n",
        "      max= i\n",
        "  return max"
      ],
      "execution_count": null,
      "outputs": []
    },
    {
      "cell_type": "code",
      "metadata": {
        "id": "OeV_4z0qee2R",
        "colab_type": "code",
        "colab": {
          "base_uri": "https://localhost:8080/",
          "height": 34
        },
        "outputId": "9e7a353d-daa6-42c2-88b0-26dd239fec86"
      },
      "source": [
        "ls1 = [2,4,5,7,8]\n",
        "max_ls1 = Max_list(ls1)\n",
        "print(max_ls1)"
      ],
      "execution_count": null,
      "outputs": [
        {
          "output_type": "stream",
          "text": [
            "8\n"
          ],
          "name": "stdout"
        }
      ]
    },
    {
      "cell_type": "code",
      "metadata": {
        "id": "oZHhEvZreoP3",
        "colab_type": "code",
        "colab": {
          "base_uri": "https://localhost:8080/",
          "height": 34
        },
        "outputId": "b4dc8d48-db60-4a32-a63e-12a9c8e96a75"
      },
      "source": [
        "ls2 = [-2,-7,42,3-9,10,2]\n",
        "max_ls2 = Max_list(ls2)\n",
        "print(max_ls2)\n"
      ],
      "execution_count": null,
      "outputs": [
        {
          "output_type": "stream",
          "text": [
            "42\n"
          ],
          "name": "stdout"
        }
      ]
    },
    {
      "cell_type": "markdown",
      "metadata": {
        "id": "nxrTzbb0e7gv",
        "colab_type": "text"
      },
      "source": [
        "Với hàm trên ta thấy kết quả trả về là 1 con số nên ta khởi tao 1 biến gán bằng hàm. Giá trị trả về của hàm sẽ gán cho biến đó\n",
        "\n",
        "\n",
        "```\n",
        "max_ls2 = Max_list(ls2)\n",
        "```\n",
        "Giá trị của hàm $Max\\_list()$ sẽ gán cho $max\\_ls2$\n",
        "\n",
        "---\n",
        "\n"
      ]
    },
    {
      "cell_type": "markdown",
      "metadata": {
        "id": "pxMvkprbmIu0",
        "colab_type": "text"
      },
      "source": [
        "<h2><font color = 'orange'> II. OOP là gì?<br></font>(Object-oriented programming)</h2>\n",
        "<h2>Giới thiệu</h2>\n",
        "Ta đã làm quen với một số kiểu dữ liệu như $int$, $float$, $boolean$...<br>\n",
        "Tuy nhiên như thế vẫn chưa đủ. Nếu như có yêu cầu các bạn lưu thông tin của 1 học viên như $tên$, $tuổi$, $giới\\_tính$,.... Thậm chí có yêu cầu lưu thêm một số hàm mô tả hành động của học viên đó như $Học()$, $Coding()$, $Nói\\_Chuyện()$,....\n",
        "<br>Thì các kiểu dữ liệu cơ bản không đáp ứng được"
      ]
    },
    {
      "cell_type": "markdown",
      "metadata": {
        "id": "j-Lbrq0znKXt",
        "colab_type": "text"
      },
      "source": [
        "Chính vì vậy giới lập trình viên mới tạo ra một <b>\"Phong cách\"</b> code. Ở phong cách này sẽ tập trung nhiều vào đối tượng, lấy đối tượng làm chính. Gọi là hướng đối tượng (**Object-oriented programming**) - OOP<br>\n",
        "So với cách code mà chúng ta từng học lấy hàm làm trung tâm - cách code đó gọi là hướng thủ tục (**procedural -oriented programming**) - POP\n",
        "Ví dụ trước kia để mô ta hành động \"ĐI\" của con người hay con vật.\n",
        "<table >\n",
        "<caption>so sánh <b>hướng đối tượng(OOP)</b> và <b>hướng thủ tục(POP)</b> </caption>\n",
        "  <tr>\n",
        "    <th></th>\n",
        "    <th>POP</th>\n",
        "    <th>OOP</th>\n",
        "  </tr>\n",
        "   <tr>\n",
        "    <td></td>\n",
        "    <td>ĐI(người_A)</td>\n",
        "    <td>Người_A.ĐI()</td>\n",
        "  </tr>\n",
        "  <tr>\n",
        "    <td></td>\n",
        "    <td>Tiếng_Kêu(con_vật_A)</td>\n",
        "    <td>Con_Vật_A.Tiếng_Kêu()</td>"
      ]
    },
    {
      "cell_type": "markdown",
      "metadata": {
        "id": "YZMGVwELpfM4",
        "colab_type": "text"
      },
      "source": [
        "Để nói về OOP  ta phải dành một Khóa học riêng về nó. Tuy nhiên ở bài này mình sẽ nói <li>tổng quan các ý chính của OOP.</li> \n",
        "<li>Chỉ ra các đặc điểm của nó</li>\n",
        "<li>Tại sao mình phải học OOP</li>\n",
        " <li>và OOP đang được áp dụng như thế nào trong python</li>"
      ]
    },
    {
      "cell_type": "markdown",
      "metadata": {
        "id": "7yMqAqwcq_P0",
        "colab_type": "text"
      },
      "source": [
        "<h2>Các nguyên lý của OOP. OOP ra đời để làm gì?</h2>"
      ]
    },
    {
      "cell_type": "markdown",
      "metadata": {
        "id": "Ltky6LFA-Osx",
        "colab_type": "text"
      },
      "source": [
        ""
      ]
    },
    {
      "cell_type": "code",
      "metadata": {
        "id": "hJPJcWV9-MBa",
        "colab_type": "code",
        "colab": {}
      },
      "source": [
        ""
      ],
      "execution_count": null,
      "outputs": []
    }
  ]
}