{
  "nbformat": 4,
  "nbformat_minor": 0,
  "metadata": {
    "colab": {
      "name": "Lession2.ipynb",
      "provenance": [],
      "collapsed_sections": [],
      "include_colab_link": true
    },
    "kernelspec": {
      "name": "python3",
      "display_name": "Python 3"
    }
  },
  "cells": [
    {
      "cell_type": "markdown",
      "metadata": {
        "id": "view-in-github",
        "colab_type": "text"
      },
      "source": [
        "<a href=\"https://colab.research.google.com/github/phamhoangtin/C4E_Python_Books/blob/master/Lession2.ipynb\" target=\"_parent\"><img src=\"https://colab.research.google.com/assets/colab-badge.svg\" alt=\"Open In Colab\"/></a>"
      ]
    },
    {
      "cell_type": "markdown",
      "metadata": {
        "id": "bqoeYcCAFnHl",
        "colab_type": "text"
      },
      "source": [
        "<h1>Vòng lặp và câu lệnh điều kiện</h1>\n",
        "<h2><font color = 'orange'> I. Vòng lặp là gì?</font></h2>\n",
        "\n",
        "<p><u>Vấn đề:</u> <br>Làm sao thực hiện 1 công việc có tính chất lặp đi lặp lại nhiều lần mà đỡ tốn thời gian nhất?\n",
        "<ul>\n",
        "  <li>In ra màn hình các số từ $1$ đến $1000$</li>\n",
        "  <li>Tính tổng các chữ số từ $1$ đến $1000$</li>\n",
        "  <li>Bắt người dùng nhập lại $UserName$ hoặc $PassWord$ đến khi nào đúng thì cho đăng nhập<br>\n",
        "  <li>Đến ngày thứ N mỗi tháng tự động tính lương cho nhân viên</li>\n",
        "  <li>Hệ thống tin nhắn luôn hoạt động lặp đi lặp lại để sẵng sàng nhận tín hiệu tin nhắn từ người khác</li><br>..........\n",
        "</ul>   \n",
        "Chúng ta cùng tìm hiểu từng câu trả lời cho các câu hỏi ở trên nào?</p>\n"
      ]
    },
    {
      "cell_type": "markdown",
      "metadata": {
        "id": "F924L91laig5",
        "colab_type": "text"
      },
      "source": [
        "<h3><font color = 'brown'> 1. Vòng lặp for</font></h3>\n",
        "\n",
        "\n",
        "\n"
      ]
    },
    {
      "cell_type": "code",
      "metadata": {
        "id": "Nyeu7gcxFaVE",
        "colab_type": "code",
        "colab": {
          "base_uri": "https://localhost:8080/",
          "height": 102
        },
        "outputId": "074eaf00-4f01-4c72-adc7-e3294cdcf076"
      },
      "source": [
        "for i in range(5):\n",
        "  print(i)"
      ],
      "execution_count": null,
      "outputs": [
        {
          "output_type": "stream",
          "text": [
            "0\n",
            "1\n",
            "2\n",
            "3\n",
            "4\n"
          ],
          "name": "stdout"
        }
      ]
    },
    {
      "cell_type": "markdown",
      "metadata": {
        "id": "H6NXpvMlwaVX",
        "colab_type": "text"
      },
      "source": [
        "<h4>\n",
        "<font color ='olive'> a. Hàm range(begin,end,step)</font>\n",
        "</h4>\n",
        "là hàm tạo ra 1 chuỗi số từ $begin$ đến <font color='red'>$end-1$</font> với bước nhảy là $step$\n",
        "\n",
        "```\n",
        "range(0,4) có thể viết tắt range(4) sẽ tạo ra chuỗi 0,1,2,3 bước nhảy là 1 hoặc là\n",
        "range(1,4) sẽ tạo ra chuỗi 1,2,3 bước nhảy là 1\n",
        "range(1,4,2) sẽ tạo ra chuỗi 1,3 bước nhảy là 2\n",
        "```\n",
        "<b>Lưu ý nếu muốn tạo ra chuỗi số từ lớn đến bé ta phải thêm bước nhảy là số âm</b>\n",
        "\n",
        "\n"
      ]
    },
    {
      "cell_type": "code",
      "metadata": {
        "id": "DRbMZWr8bIo-",
        "colab_type": "code",
        "colab": {
          "base_uri": "https://localhost:8080/",
          "height": 272
        },
        "outputId": "466c209e-46a4-4849-a1cf-a915d8fa9390"
      },
      "source": [
        "print(\"từ 1->5\")\n",
        "for i in range(1,5):\n",
        "  print(i)\n",
        "print(\"từ 5->1\")\n",
        "for i in range(5,0,-1):\n",
        "  print(i)\n",
        "print(\"từ 1->5, bước nhảy là 2\")\n",
        "for i in range(1,5,2):\n",
        "  print(i)\n",
        "print(\"từ 5 đến 1 không có bước nhảy\")\n",
        "for i in range(5,1):\n",
        "  print(i)"
      ],
      "execution_count": null,
      "outputs": [
        {
          "output_type": "stream",
          "text": [
            "từ 1->5\n",
            "1\n",
            "2\n",
            "3\n",
            "4\n",
            "từ 5->1\n",
            "5\n",
            "4\n",
            "3\n",
            "2\n",
            "1\n",
            "từ 1->5, bước nhảy là 2\n",
            "1\n",
            "3\n",
            "từ 5 đến 1 không có bước nhảy\n"
          ],
          "name": "stdout"
        }
      ]
    },
    {
      "cell_type": "markdown",
      "metadata": {
        "id": "dQ5d794J0O2F",
        "colab_type": "text"
      },
      "source": [
        "<h4> \n",
        "<font color ='olive'> b. For dùng để làm gì?</font>\n",
        "</h4>\n",
        "<li>Dùng để lặp với số lần lặp biết trước</li>\n",
        "<li>Dùng để duyệt các phần tử trong mảng, list, hay kiểu dữ liệu chuỗi</li>\n"
      ]
    },
    {
      "cell_type": "code",
      "metadata": {
        "id": "t2uXMHiwZuXD",
        "colab_type": "code",
        "colab": {
          "base_uri": "https://localhost:8080/",
          "height": 102
        },
        "outputId": "0a5430c2-c7df-41dd-b3c3-8766c4eeacc2"
      },
      "source": [
        "#lặp với số lần biết trước\n",
        "for i in range(5):\n",
        "  print(i)"
      ],
      "execution_count": null,
      "outputs": [
        {
          "output_type": "stream",
          "text": [
            "0\n",
            "1\n",
            "2\n",
            "3\n",
            "4\n"
          ],
          "name": "stdout"
        }
      ]
    },
    {
      "cell_type": "code",
      "metadata": {
        "id": "nM9J86M7a60X",
        "colab_type": "code",
        "colab": {
          "base_uri": "https://localhost:8080/",
          "height": 85
        },
        "outputId": "c66a863a-3053-49eb-f75e-0c64f9287a0b"
      },
      "source": [
        "#lặp duyệt các phần tử trong mảng\n",
        "colors = [\"red\", \"green\", \"blue\", \"purple\"]\n",
        "for i in colors:\n",
        "  print(i)"
      ],
      "execution_count": null,
      "outputs": [
        {
          "output_type": "stream",
          "text": [
            "red\n",
            "green\n",
            "blue\n",
            "purple\n"
          ],
          "name": "stdout"
        }
      ]
    },
    {
      "cell_type": "markdown",
      "metadata": {
        "id": "00xvMs8IbLy_",
        "colab_type": "text"
      },
      "source": [
        "vòng lặp $for$ trong python tương tự như $for each$ trong các ngôn ngữ khác vì mỗi lần lặp giá trị biến lặp sẽ bằng các phần tử trong mảng. \n",
        "Tuy nhiên python vẫn có cách lặp với index của mảng"
      ]
    },
    {
      "cell_type": "code",
      "metadata": {
        "id": "_YTFLwyFbgrV",
        "colab_type": "code",
        "colab": {
          "base_uri": "https://localhost:8080/",
          "height": 85
        },
        "outputId": "1c4bff64-f8db-4ba9-e2a7-f257d0abc07d"
      },
      "source": [
        "# lặp với index \n",
        "for index,color in enumerate(colors):\n",
        "    print(index,'-',color)"
      ],
      "execution_count": null,
      "outputs": [
        {
          "output_type": "stream",
          "text": [
            "0 - red\n",
            "1 - green\n",
            "2 - blue\n",
            "3 - purple\n"
          ],
          "name": "stdout"
        }
      ]
    },
    {
      "cell_type": "markdown",
      "metadata": {
        "id": "QEKextc5cSrM",
        "colab_type": "text"
      },
      "source": [
        "Hoặc là "
      ]
    },
    {
      "cell_type": "markdown",
      "metadata": {
        "id": "pceT6CtXFc8e",
        "colab_type": "text"
      },
      "source": [
        "Hàm $enumerate()$ là hàm trả về 2 giá trị\n",
        "\n",
        "*   giá trị đầu tiên trả về chỉ số các phần tử trong mảng\n",
        "*   Giá trị thứ 2 trả về giá trị của các phần tử trong mảng\n",
        "\n"
      ]
    },
    {
      "cell_type": "code",
      "metadata": {
        "id": "b5yf_dwEcUtA",
        "colab_type": "code",
        "colab": {
          "base_uri": "https://localhost:8080/",
          "height": 85
        },
        "outputId": "fb53a7a9-b0a0-4b48-9a60-533f9b7fb1bf"
      },
      "source": [
        "# lặp với index cách 2\n",
        "for i in range(len(colors)):\n",
        "  print(i,'-',colors[i])"
      ],
      "execution_count": null,
      "outputs": [
        {
          "output_type": "stream",
          "text": [
            "0 - red\n",
            "1 - green\n",
            "2 - blue\n",
            "3 - purple\n"
          ],
          "name": "stdout"
        }
      ]
    },
    {
      "cell_type": "markdown",
      "metadata": {
        "id": "zBqwmOuYdUKq",
        "colab_type": "text"
      },
      "source": [
        "<font color='green'>Giải thích 1 tí về cách thứ 2</font>\n",
        "<ol>\n",
        "  <li>Hàm <font color = 'olive'>len() </font>là hàm trả về số lượng các phần tử của list </li>\n",
        "  <li>colors có 4 phần tử thì hàm <font color = 'olive'>range(len(<font color='black'>colors</font> )) </font>$\\equiv$<font color = 'olive'> range(<font color='black'>4</font>)</font> </li>\n",
        "  <li>các phần tử trong mảng được đánh index từ 0,1,2... ta có thể truy cập phần tử trong mảng bằng index như $colors[i]$</li>\n",
        "</ol>"
      ]
    },
    {
      "cell_type": "markdown",
      "metadata": {
        "id": "PAJT6jkH00Yy",
        "colab_type": "text"
      },
      "source": [
        "[link text](https://)<h4> \n",
        "<font color ='olive'> c. Bài tập minh họa</font>\n",
        "</h4>\n",
        "<ol>\n",
        "  <li>Tính tổng các số từ 1 đến 100</li>\n",
        "  <li>Đếm số phần tử mang giá trị âm trong mảng(list) .</li>\n",
        "</ol>"
      ]
    },
    {
      "cell_type": "code",
      "metadata": {
        "id": "fArrOF-Mx2M1",
        "colab_type": "code",
        "colab": {
          "base_uri": "https://localhost:8080/",
          "height": 34
        },
        "outputId": "a4adbf32-43f1-4118-c9cb-f189026ead5d"
      },
      "source": [
        "# tính tổng các số từ 1 đến 100\n",
        "sum =0\n",
        "for i in range(101):\n",
        "  sum += i\n",
        "print('sum 1 to 100: ', sum)"
      ],
      "execution_count": null,
      "outputs": [
        {
          "output_type": "stream",
          "text": [
            "sum 1 to 100:  5050\n"
          ],
          "name": "stdout"
        }
      ]
    },
    {
      "cell_type": "code",
      "metadata": {
        "id": "G8-hp2-37Tem",
        "colab_type": "code",
        "colab": {
          "base_uri": "https://localhost:8080/",
          "height": 34
        },
        "outputId": "073643b2-e002-4d86-9883-32bfa763a8b7"
      },
      "source": [
        "#đếm số phần tử mang giá trị âm trong mảng\n",
        "ls_num = [-1,3,4,5,-2,-7,8,10,-11]\n",
        "count_negative = 0\n",
        "for i in ls_num: # mỗi lần chạy i sẽ mang giá trị của phần tử tương ứng trong mảng ls_number\n",
        "  if(i<=0):\n",
        "    count_negative+=1\n",
        "print('số giá trị âm trong mảng là: ', count_negative)"
      ],
      "execution_count": null,
      "outputs": [
        {
          "output_type": "stream",
          "text": [
            "số giá trị âm trong mảng là:  4\n"
          ],
          "name": "stdout"
        }
      ]
    },
    {
      "cell_type": "markdown",
      "metadata": {
        "id": "wGQyzIBX8DeO",
        "colab_type": "text"
      },
      "source": [
        "<li> ví dụ đầu tiên cho thấy vòng lặp for dùng để lặp với số lần biết trước</li>\n",
        "<li> ví dụ thứ 2 cho thấy vòng lặp for dùng để duyệt mảng\n"
      ]
    },
    {
      "cell_type": "markdown",
      "metadata": {
        "id": "g-JLnUDu_T-d",
        "colab_type": "text"
      },
      "source": [
        "<h3><font color = 'brown'> 2. Vòng lặp While</font></h3>`"
      ]
    },
    {
      "cell_type": "markdown",
      "metadata": {
        "id": "mGwR7Bqua1mZ",
        "colab_type": "text"
      },
      "source": [
        "<p>Tại sao người ta phải sinh ra vòng lặp $while$ trong khi đã có vòng lặp $for$<br>\n",
        "Ví dụ: <font color='blue'>ta làm chức năng đăng nhập. Bắt buộc người dùng phải nhập đúng cả <u>UserName</u> và <u>PassWord</u> thì ta mới cho phép người dùng login. Nếu người dùng nhập sai 1 trong 2 thì phải đăng nhập lại.</font></p>\n",
        "\n",
        "<p>Giải thích: Với ví dụ trên ta không hề biết được rằng người dùng nhập đúng ở lần thứ bao nhiêu? Ta chỉ biết <font color = 'red'>điều kiện dừng</font> là người dùng nhập đúng cả 2 UserName và PassWord. Vì vậy vòng lặp $for$ lúc này không giải quyết được vấn đề.<br>=> Vòng lặp $while$ ra đời</p><br>\n",
        "<h4> \n",
        "<table >\n",
        "<caption>so sánh while và for</caption>\n",
        "  <tr>\n",
        "    <th></th>\n",
        "    <th>For</th>\n",
        "    <th>While</th>\n",
        "  </tr>\n",
        "   <tr>\n",
        "    <td>Cú pháp</td>\n",
        "    <td>for ... in ...</td>\n",
        "    <td>While(điều kiện lặp/dừng)</td>\n",
        "  </tr>\n",
        "  <tr>\n",
        "    <td>Khi nào dừng?</td>\n",
        "    <td>Sau số lần lặp biết trước</td>\n",
        "    <td>Điều kiện lặp = False</td>\n",
        "\n",
        "  </tr>\n",
        "  <tr>\n",
        "    <td>Mức độ tổng quát</td>\n",
        "    <td>hạn chế</td>\n",
        "    <td>Có thể thay thế for. Làm một số chuyện for không làm được<br>như là lặp vô tận</td>\n",
        "  </tr>\n",
        "  </table>\n"
      ]
    },
    {
      "cell_type": "markdown",
      "metadata": {
        "id": "EbwzO_3OhcvW",
        "colab_type": "text"
      },
      "source": [
        "<font color ='olive'> a. Lột trần $while$</font>\n",
        "</h4>\n",
        "<ol>\n",
        "  <li>Syntax: $while$(điều kiện)$:$</li>\n",
        "  <li>Quy luật của $while$ - <font color='green'>$while$ (True):</font> Khi nào điều kiện còn đúng thì $while$ còn làm </li>\n",
        "  <li>$while$ có thể thay thế cả $for$ - xem ví dụ bên dưới</li>\n",
        "</ol>\n"
      ]
    },
    {
      "cell_type": "code",
      "metadata": {
        "id": "8pK4sazR7_zx",
        "colab_type": "code",
        "colab": {
          "base_uri": "https://localhost:8080/",
          "height": 187
        },
        "outputId": "01bb64ab-77be-425a-b96d-4f864524d9cb"
      },
      "source": [
        "# in ra dãy số từ 1 đến 10\n",
        "count = 1\n",
        "while (count <= 10):\n",
        "  print(count)\n",
        "  count +=1        #count  = count +1\n"
      ],
      "execution_count": null,
      "outputs": [
        {
          "output_type": "stream",
          "text": [
            "1\n",
            "2\n",
            "3\n",
            "4\n",
            "5\n",
            "6\n",
            "7\n",
            "8\n",
            "9\n",
            "10\n"
          ],
          "name": "stdout"
        }
      ]
    },
    {
      "cell_type": "code",
      "metadata": {
        "id": "wKpTFHo3jDCz",
        "colab_type": "code",
        "colab": {
          "base_uri": "https://localhost:8080/",
          "height": 102
        },
        "outputId": "903bf825-a9c4-4177-b0ff-7282a84e36f8"
      },
      "source": [
        "# duyệt mảng bằng while\n",
        "fruits = ['apple', 'banana', 'mango','organ','cherry']\n",
        "\n",
        "index_fruit = 0\n",
        "while index_fruit < len(fruits):\n",
        "  print(fruits[index_fruit])\n",
        "  index_fruit +=1"
      ],
      "execution_count": null,
      "outputs": [
        {
          "output_type": "stream",
          "text": [
            "apple\n",
            "banana\n",
            "mango\n",
            "organ\n",
            "cherry\n"
          ],
          "name": "stdout"
        }
      ]
    },
    {
      "cell_type": "markdown",
      "metadata": {
        "id": "9REtsX_ajvqQ",
        "colab_type": "text"
      },
      "source": [
        "<font color = 'green'>Lưu ý</font>\n",
        "<ol>\n",
        "  <li>Điều kiện vòng lặp $while$ phải có điểm dừng nếu không vòng lặp sẽ bị lặp vô tận</li>\n",
        "  <li>Trên thực tế vòng lặp vô tận $while(True$) được sử dụng cho các hệ thống như server, một số ứng dụng luôn chạy ngầm như tin nhắn, điện thoại,...</li>\n",
        "</ol>"
      ]
    },
    {
      "cell_type": "markdown",
      "metadata": {
        "id": "ZaeeeCOpZ3Xc",
        "colab_type": "text"
      },
      "source": [
        "<font color ='olive'> b. Lệnh <font color='purple'>break</font> trong $while$</font></h4><br>\n",
        "Lệnh <font color='purple'>break</font> là câu lệnh dừng vòng lập đột xuất. Nghĩa là ngoài việc điều kiện bằng False thì vòng lặp sẽ dừng khi gặp lệnh <font color='purple'>break</font> dù điều kiện vẫn còn đúng\n"
      ]
    },
    {
      "cell_type": "markdown",
      "metadata": {
        "id": "v66YPqwQnGJp",
        "colab_type": "text"
      },
      "source": [
        "<font color ='olive'> c. Bài tập minh họa</font>\n",
        "\n",
        "</h4>\n",
        "<p>In ra các số chính phương bé hơn 1000<br><nbsp>số chính phương là số có căn bậc 2 là số nguyên như 4,9,16,...</p> \n"
      ]
    },
    {
      "cell_type": "code",
      "metadata": {
        "id": "4Q91IeBmn0tA",
        "colab_type": "code",
        "colab": {
          "base_uri": "https://localhost:8080/",
          "height": 544
        },
        "outputId": "47d882d0-4c87-4451-cbce-e14bd4c8e3c6"
      },
      "source": [
        "square_num = 1\n",
        "while square_num**2 <1000:\n",
        "  print(square_num**2)\n",
        "  square_num +=1\n",
        "  "
      ],
      "execution_count": null,
      "outputs": [
        {
          "output_type": "stream",
          "text": [
            "1\n",
            "4\n",
            "9\n",
            "16\n",
            "25\n",
            "36\n",
            "49\n",
            "64\n",
            "81\n",
            "100\n",
            "121\n",
            "144\n",
            "169\n",
            "196\n",
            "225\n",
            "256\n",
            "289\n",
            "324\n",
            "361\n",
            "400\n",
            "441\n",
            "484\n",
            "529\n",
            "576\n",
            "625\n",
            "676\n",
            "729\n",
            "784\n",
            "841\n",
            "900\n",
            "961\n"
          ],
          "name": "stdout"
        }
      ]
    },
    {
      "cell_type": "markdown",
      "metadata": {
        "id": "QBSpgPF9mvmK",
        "colab_type": "text"
      },
      "source": [
        "<h3><font color = 'brown'> 3. Câu lệnh rẽ nhánh if - else </font></h3>"
      ]
    },
    {
      "cell_type": "markdown",
      "metadata": {
        "id": "UEvMnTY4X-A7",
        "colab_type": "text"
      },
      "source": [
        "Trước khi học về $if-else$ ta cùng ôn lại 1 số toán tử cần thiết\n",
        "<h4><font color = 'OLIVE'>a. Toán tử so sánh</font></h4>\n",
        "<li>$>$ lớn </li>\n",
        "<li>$>=$ lớn hơn hoặc bằng </li>\n",
        "<li>$<$ bé </li>\n",
        "<li>$<=$ bé hơn hoặc bằng </li>\n",
        "<li>$ == $ so sánh bằng </li>\n",
        "<li>$ != $ so sánh khác </li>\n",
        "<h4><font color = 'OLIVE'>b. Toán tử Logic</font></h4>\n",
        "<li>$and$ </li>\n",
        "<li>$or$</li>\n",
        "<li>$not$</li>\n",
        "<h4><font color = 'OLIVE'>c. Cú pháp</font></h4>\n",
        "<ul>\n",
        "<li><p>$if$ condition:</p> =>1 điều kiện</li>\n",
        "<li><p>$if$ condition:<br>$else:$</p> => 1 điều kiện kèm theo ngoại lệ</li>\n",
        "<li><p>$if$ condition1:<br>$elif$ condition2:<br>$elif$ condition3:<br>.<br>.<br>$else:$</p>=> có nhiều điều kiện và các điều kiện này độc lập( chỉ được xảy ra $1$ trong n điều kiện)</li>\n",
        "</ul>"
      ]
    },
    {
      "cell_type": "code",
      "metadata": {
        "id": "QhobLhY0Xzg5",
        "colab_type": "code",
        "colab": {
          "base_uri": "https://localhost:8080/",
          "height": 34
        },
        "outputId": "49e43604-d885-4934-d99a-059f9239a1fa"
      },
      "source": [
        "# một điều kiện \n",
        "a = 33\n",
        "b = 200\n",
        "if b > a:\n",
        "  print(\"b lớn hơn a\")"
      ],
      "execution_count": null,
      "outputs": [
        {
          "output_type": "stream",
          "text": [
            "b lớn hơn a\n"
          ],
          "name": "stdout"
        }
      ]
    },
    {
      "cell_type": "code",
      "metadata": {
        "id": "hC3WsItobIyB",
        "colab_type": "code",
        "colab": {
          "base_uri": "https://localhost:8080/",
          "height": 129
        },
        "outputId": "9e58ab86-f0df-42dd-b789-622768b34ede"
      },
      "source": [
        "# một điều kiện \n",
        "a = 33\n",
        "b = 200\n",
        "if b > a:\n",
        "print(\"b lớn hơn a\")"
      ],
      "execution_count": null,
      "outputs": [
        {
          "output_type": "error",
          "ename": "IndentationError",
          "evalue": "ignored",
          "traceback": [
            "\u001b[0;36m  File \u001b[0;32m\"<ipython-input-11-5bfa7890edd9>\"\u001b[0;36m, line \u001b[0;32m4\u001b[0m\n\u001b[0;31m    print(\"b lớn hơn a\")\u001b[0m\n\u001b[0m        ^\u001b[0m\n\u001b[0;31mIndentationError\u001b[0m\u001b[0;31m:\u001b[0m expected an indented block\n"
          ]
        }
      ]
    },
    {
      "cell_type": "markdown",
      "metadata": {
        "id": "_Ce-HNwEbUhD",
        "colab_type": "text"
      },
      "source": [
        "Dòng code trên bị lỗi do lệnh print() không lùi vào 1 dấu tab. if như while hoặc for những lệnh nào là lệnh con thì lùi vào 1 dấu tab"
      ]
    },
    {
      "cell_type": "code",
      "metadata": {
        "id": "eCdxzaCKbRLc",
        "colab_type": "code",
        "colab": {
          "base_uri": "https://localhost:8080/",
          "height": 34
        },
        "outputId": "7c76eb5f-45b2-416b-a034-59708ed41927"
      },
      "source": [
        "# một điều kiện có kèm ngoại lệ\n",
        "a = 33\n",
        "b = 31\n",
        "if b > a:\n",
        "  print(\"b lớn hơn a\")\n",
        "else:\n",
        "  print(\"a lớn hơn HOẶC BẰNG b\")"
      ],
      "execution_count": null,
      "outputs": [
        {
          "output_type": "stream",
          "text": [
            "a lớn hơn HOẶC BẰNG b\n"
          ],
          "name": "stdout"
        }
      ]
    },
    {
      "cell_type": "code",
      "metadata": {
        "id": "2PbE5ip9bsZX",
        "colab_type": "code",
        "colab": {
          "base_uri": "https://localhost:8080/",
          "height": 34
        },
        "outputId": "a24d9dac-9be1-44a2-a2b5-7d01adee2b1e"
      },
      "source": [
        "# nhiều điều kiện và các điều kiện độc lập lẫn nhau\n",
        "a = 33\n",
        "b = 33\n",
        "if b > a:\n",
        "  print(\"b lớn hơn a\")\n",
        "elif b == a:\n",
        "  print(\"b bằng a\")\n",
        "else:\n",
        "  print('b nhỏ hơn a')"
      ],
      "execution_count": null,
      "outputs": [
        {
          "output_type": "stream",
          "text": [
            "b bằng a\n"
          ],
          "name": "stdout"
        }
      ]
    },
    {
      "cell_type": "code",
      "metadata": {
        "id": "DM19VTCIb7BC",
        "colab_type": "code",
        "colab": {
          "base_uri": "https://localhost:8080/",
          "height": 34
        },
        "outputId": "0bfe2861-9d3f-4b4c-87d9-c78ccffee91f"
      },
      "source": [
        "# viết nhanh ( kham khảo thêm, không khuyến khích lam dụng)\n",
        "a = 2\n",
        "b = 330\n",
        "print(\"A>B\") if a > b else print(\"B<=A\")"
      ],
      "execution_count": null,
      "outputs": [
        {
          "output_type": "stream",
          "text": [
            "B<=A\n"
          ],
          "name": "stdout"
        }
      ]
    },
    {
      "cell_type": "code",
      "metadata": {
        "id": "8EHlMl4vcYV5",
        "colab_type": "code",
        "colab": {
          "base_uri": "https://localhost:8080/",
          "height": 51
        },
        "outputId": "0e4b4bc5-2400-41dd-b7d3-edff33d1bba4"
      },
      "source": [
        "# nhiều điều kiện và các điều kiện không độc lập có thể dùng nhiều lệnh if hoặc các phép logic\n",
        "x = 41\n",
        "if x > 10:\n",
        "  print(x,\" lớn hơn 10\")\n",
        "  if x > 20:\n",
        "    print(\" và cũng lớn hơn 20\")\n",
        "  else:\n",
        "    print(\" nhưng nhỏ hơn 20\")"
      ],
      "execution_count": null,
      "outputs": [
        {
          "output_type": "stream",
          "text": [
            "41  lớn hơn 10\n",
            " và cũng lớn hơn 20\n"
          ],
          "name": "stdout"
        }
      ]
    },
    {
      "cell_type": "code",
      "metadata": {
        "id": "3xPXu0YQdbXq",
        "colab_type": "code",
        "colab": {
          "base_uri": "https://localhost:8080/",
          "height": 51
        },
        "outputId": "60f86e59-697e-410b-da68-26adb91248c3"
      },
      "source": [
        "#cách 2\n",
        "x = 41\n",
        "if (x > 10) and (x > 20):\n",
        "  print(x,\" lớn hơn 10\")\n",
        "  print(\" và cũng lớn hơn 20\")\n",
        "elif (x > 10) and (x < 20):\n",
        "  print(x,\" lớn hơn 10\")\n",
        "  print(\" nhưng nhỏ hơn 20\")"
      ],
      "execution_count": null,
      "outputs": [
        {
          "output_type": "stream",
          "text": [
            "41  lớn hơn 10\n",
            " và cũng lớn hơn 20\n"
          ],
          "name": "stdout"
        }
      ]
    }
  ]
}