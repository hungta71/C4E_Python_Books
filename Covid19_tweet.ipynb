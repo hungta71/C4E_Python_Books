{
  "nbformat": 4,
  "nbformat_minor": 0,
  "metadata": {
    "colab": {
      "name": "Covid19_tweet.ipynb",
      "provenance": [],
      "collapsed_sections": [
        "zodPG1t3F5jp",
        "S68kKyRwInlJ",
        "O5ecv_5zLH3Z",
        "e-50FWlhQ0XU",
        "NEWOeBC9SJUf",
        "1QbO-_5tTCaZ",
        "iWPuW4agTh5p",
        "GvjuhIcjTrNS",
        "ri_jhIjHVHCc",
        "GVqVajYCVM05"
      ],
      "authorship_tag": "ABX9TyOYbE4vSw9UTg/es0tIyH6S",
      "include_colab_link": true
    },
    "kernelspec": {
      "name": "python3",
      "display_name": "Python 3"
    }
  },
  "cells": [
    {
      "cell_type": "markdown",
      "metadata": {
        "id": "view-in-github",
        "colab_type": "text"
      },
      "source": [
        "<a href=\"https://colab.research.google.com/github/phamhoangtin/C4E_Python_Books/blob/master/Covid19_tweet.ipynb\" target=\"_parent\"><img src=\"https://colab.research.google.com/assets/colab-badge.svg\" alt=\"Open In Colab\"/></a>"
      ]
    },
    {
      "cell_type": "code",
      "metadata": {
        "id": "e4oeKLTaDLQV",
        "outputId": "0688036e-e2f2-43b0-ce95-9035ff97058c",
        "colab": {
          "base_uri": "https://localhost:8080/"
        }
      },
      "source": [
        "from google.colab import drive\n",
        "drive.mount('/content/drive')"
      ],
      "execution_count": null,
      "outputs": [
        {
          "output_type": "stream",
          "text": [
            "Mounted at /content/drive\n"
          ],
          "name": "stdout"
        }
      ]
    },
    {
      "cell_type": "code",
      "metadata": {
        "id": "8qnG1UWbEiKE",
        "outputId": "27c601a9-293c-4fb0-807f-0d70c7128425",
        "colab": {
          "base_uri": "https://localhost:8080/"
        }
      },
      "source": [
        "!unzip \"/content/drive/My Drive/Colab Notebooks/D4E_data_analyst/covid19_tweets.csv.zip\" -d \"/content/sample_data\""
      ],
      "execution_count": null,
      "outputs": [
        {
          "output_type": "stream",
          "text": [
            "Archive:  /content/drive/My Drive/Colab Notebooks/D4E_data_analyst/covid19_tweets.csv.zip\n",
            "  inflating: /content/sample_data/covid19_tweets.csv  \n"
          ],
          "name": "stdout"
        }
      ]
    },
    {
      "cell_type": "code",
      "metadata": {
        "id": "_rIm0oaUFCfs"
      },
      "source": [
        "import pandas as pd\n",
        "import seaborn as sns\n",
        "import matplotlib.pyplot as plt\n",
        "import numpy as np"
      ],
      "execution_count": null,
      "outputs": []
    },
    {
      "cell_type": "code",
      "metadata": {
        "id": "k9tNdKqiFHR_"
      },
      "source": [
        "df_covid = pd.read_csv(\"/content/sample_data/covid19_tweets.csv\")"
      ],
      "execution_count": null,
      "outputs": []
    },
    {
      "cell_type": "code",
      "metadata": {
        "id": "5ChVpw31FNaW",
        "outputId": "939027d6-d06e-451a-e4a6-6102c09afb25",
        "colab": {
          "base_uri": "https://localhost:8080/",
          "height": 445
        }
      },
      "source": [
        "df_covid.head()"
      ],
      "execution_count": null,
      "outputs": [
        {
          "output_type": "execute_result",
          "data": {
            "text/html": [
              "<div>\n",
              "<style scoped>\n",
              "    .dataframe tbody tr th:only-of-type {\n",
              "        vertical-align: middle;\n",
              "    }\n",
              "\n",
              "    .dataframe tbody tr th {\n",
              "        vertical-align: top;\n",
              "    }\n",
              "\n",
              "    .dataframe thead th {\n",
              "        text-align: right;\n",
              "    }\n",
              "</style>\n",
              "<table border=\"1\" class=\"dataframe\">\n",
              "  <thead>\n",
              "    <tr style=\"text-align: right;\">\n",
              "      <th></th>\n",
              "      <th>user_name</th>\n",
              "      <th>user_location</th>\n",
              "      <th>user_description</th>\n",
              "      <th>user_created</th>\n",
              "      <th>user_followers</th>\n",
              "      <th>user_friends</th>\n",
              "      <th>user_favourites</th>\n",
              "      <th>user_verified</th>\n",
              "      <th>date</th>\n",
              "      <th>text</th>\n",
              "      <th>hashtags</th>\n",
              "      <th>source</th>\n",
              "      <th>is_retweet</th>\n",
              "    </tr>\n",
              "  </thead>\n",
              "  <tbody>\n",
              "    <tr>\n",
              "      <th>0</th>\n",
              "      <td>ᏉᎥ☻լꂅϮ</td>\n",
              "      <td>astroworld</td>\n",
              "      <td>wednesday addams as a disney princess keepin i...</td>\n",
              "      <td>2017-05-26 05:46:42</td>\n",
              "      <td>624</td>\n",
              "      <td>950</td>\n",
              "      <td>18775</td>\n",
              "      <td>False</td>\n",
              "      <td>2020-07-25 12:27:21</td>\n",
              "      <td>If I smelled the scent of hand sanitizers toda...</td>\n",
              "      <td>NaN</td>\n",
              "      <td>Twitter for iPhone</td>\n",
              "      <td>False</td>\n",
              "    </tr>\n",
              "    <tr>\n",
              "      <th>1</th>\n",
              "      <td>Tom Basile 🇺🇸</td>\n",
              "      <td>New York, NY</td>\n",
              "      <td>Husband, Father, Columnist &amp; Commentator. Auth...</td>\n",
              "      <td>2009-04-16 20:06:23</td>\n",
              "      <td>2253</td>\n",
              "      <td>1677</td>\n",
              "      <td>24</td>\n",
              "      <td>True</td>\n",
              "      <td>2020-07-25 12:27:17</td>\n",
              "      <td>Hey @Yankees @YankeesPR and @MLB - wouldn't it...</td>\n",
              "      <td>NaN</td>\n",
              "      <td>Twitter for Android</td>\n",
              "      <td>False</td>\n",
              "    </tr>\n",
              "    <tr>\n",
              "      <th>2</th>\n",
              "      <td>Time4fisticuffs</td>\n",
              "      <td>Pewee Valley, KY</td>\n",
              "      <td>#Christian #Catholic #Conservative #Reagan #Re...</td>\n",
              "      <td>2009-02-28 18:57:41</td>\n",
              "      <td>9275</td>\n",
              "      <td>9525</td>\n",
              "      <td>7254</td>\n",
              "      <td>False</td>\n",
              "      <td>2020-07-25 12:27:14</td>\n",
              "      <td>@diane3443 @wdunlap @realDonaldTrump Trump nev...</td>\n",
              "      <td>['COVID19']</td>\n",
              "      <td>Twitter for Android</td>\n",
              "      <td>False</td>\n",
              "    </tr>\n",
              "    <tr>\n",
              "      <th>3</th>\n",
              "      <td>ethel mertz</td>\n",
              "      <td>Stuck in the Middle</td>\n",
              "      <td>#Browns #Indians #ClevelandProud #[]_[] #Cavs ...</td>\n",
              "      <td>2019-03-07 01:45:06</td>\n",
              "      <td>197</td>\n",
              "      <td>987</td>\n",
              "      <td>1488</td>\n",
              "      <td>False</td>\n",
              "      <td>2020-07-25 12:27:10</td>\n",
              "      <td>@brookbanktv The one gift #COVID19 has give me...</td>\n",
              "      <td>['COVID19']</td>\n",
              "      <td>Twitter for iPhone</td>\n",
              "      <td>False</td>\n",
              "    </tr>\n",
              "    <tr>\n",
              "      <th>4</th>\n",
              "      <td>DIPR-J&amp;K</td>\n",
              "      <td>Jammu and Kashmir</td>\n",
              "      <td>🖊️Official Twitter handle of Department of Inf...</td>\n",
              "      <td>2017-02-12 06:45:15</td>\n",
              "      <td>101009</td>\n",
              "      <td>168</td>\n",
              "      <td>101</td>\n",
              "      <td>False</td>\n",
              "      <td>2020-07-25 12:27:08</td>\n",
              "      <td>25 July : Media Bulletin on Novel #CoronaVirus...</td>\n",
              "      <td>['CoronaVirusUpdates', 'COVID19']</td>\n",
              "      <td>Twitter for Android</td>\n",
              "      <td>False</td>\n",
              "    </tr>\n",
              "  </tbody>\n",
              "</table>\n",
              "</div>"
            ],
            "text/plain": [
              "         user_name         user_location  ...               source is_retweet\n",
              "0           ᏉᎥ☻լꂅϮ            astroworld  ...   Twitter for iPhone      False\n",
              "1    Tom Basile 🇺🇸          New York, NY  ...  Twitter for Android      False\n",
              "2  Time4fisticuffs      Pewee Valley, KY  ...  Twitter for Android      False\n",
              "3      ethel mertz  Stuck in the Middle   ...   Twitter for iPhone      False\n",
              "4         DIPR-J&K     Jammu and Kashmir  ...  Twitter for Android      False\n",
              "\n",
              "[5 rows x 13 columns]"
            ]
          },
          "metadata": {
            "tags": []
          },
          "execution_count": 6
        }
      ]
    },
    {
      "cell_type": "markdown",
      "metadata": {
        "id": "JnMESlBkFbH_"
      },
      "source": [
        "These tweets are collected using Twitter API and a Python script. A query for this high-frequency hashtag (#covid19) is run on a daily basis for a certain time period, to collect a larger number of tweets samples.\n",
        "The tweets have #covid19 hashtag. Collection started on 25/7/2020, with an initial 17k batch and will continue on a daily basis."
      ]
    },
    {
      "cell_type": "markdown",
      "metadata": {
        "id": "zodPG1t3F5jp"
      },
      "source": [
        "### kiểm tra toàn bộ dataset"
      ]
    },
    {
      "cell_type": "code",
      "metadata": {
        "id": "tf7CaI_gFQQB",
        "outputId": "c057f48e-fbf1-40af-8978-87e2546bce85",
        "colab": {
          "base_uri": "https://localhost:8080/"
        }
      },
      "source": [
        "df_covid.info()"
      ],
      "execution_count": null,
      "outputs": [
        {
          "output_type": "stream",
          "text": [
            "<class 'pandas.core.frame.DataFrame'>\n",
            "RangeIndex: 179108 entries, 0 to 179107\n",
            "Data columns (total 13 columns):\n",
            " #   Column            Non-Null Count   Dtype \n",
            "---  ------            --------------   ----- \n",
            " 0   user_name         179108 non-null  object\n",
            " 1   user_location     142337 non-null  object\n",
            " 2   user_description  168822 non-null  object\n",
            " 3   user_created      179108 non-null  object\n",
            " 4   user_followers    179108 non-null  int64 \n",
            " 5   user_friends      179108 non-null  int64 \n",
            " 6   user_favourites   179108 non-null  int64 \n",
            " 7   user_verified     179108 non-null  bool  \n",
            " 8   date              179108 non-null  object\n",
            " 9   text              179108 non-null  object\n",
            " 10  hashtags          127774 non-null  object\n",
            " 11  source            179031 non-null  object\n",
            " 12  is_retweet        179108 non-null  bool  \n",
            "dtypes: bool(2), int64(3), object(8)\n",
            "memory usage: 15.4+ MB\n"
          ],
          "name": "stdout"
        }
      ]
    },
    {
      "cell_type": "markdown",
      "metadata": {
        "id": "S68kKyRwInlJ"
      },
      "source": [
        "### thống kê giá trị trống mỗi cột"
      ]
    },
    {
      "cell_type": "markdown",
      "metadata": {
        "id": "PL4lLMvVIxuE"
      },
      "source": [
        "\n",
        "\n",
        "```\n",
        "amount_null = df_covid[col].isnull().sum()\n",
        "total_amount = len(df_covid)\n",
        "percent = 100*(amount_null/total_amount)\n",
        "percent = rount(percent,2)\n",
        "```\n",
        "\n"
      ]
    },
    {
      "cell_type": "code",
      "metadata": {
        "id": "nyJcA_8FF_Kw"
      },
      "source": [
        "missed = pd.DataFrame()\n",
        "missed['column'] = df_covid.columns\n",
        "missed['percent'] = [round(100* df_covid[col].isnull().sum() / len(df_covid), 2) for col in df_covid.columns]\n",
        "\n"
      ],
      "execution_count": null,
      "outputs": []
    },
    {
      "cell_type": "markdown",
      "metadata": {
        "id": "59qEF440JS_J"
      },
      "source": [
        "### tính phần trăm rỗng mỗi cột và sắp xếm theo percent, và chỉ lấy những cột lớn hơn 0"
      ]
    },
    {
      "cell_type": "code",
      "metadata": {
        "id": "plEis3HiJhZs"
      },
      "source": [
        "missed = missed.sort_values('percent')\n",
        "missed = missed[missed['percent']>0]"
      ],
      "execution_count": null,
      "outputs": []
    },
    {
      "cell_type": "code",
      "metadata": {
        "id": "XMyRuqlOGUzp",
        "outputId": "e8bdbd32-719a-47d4-8268-d9449fc7bb19",
        "colab": {
          "base_uri": "https://localhost:8080/",
          "height": 173
        }
      },
      "source": [
        "missed"
      ],
      "execution_count": null,
      "outputs": [
        {
          "output_type": "execute_result",
          "data": {
            "text/html": [
              "<div>\n",
              "<style scoped>\n",
              "    .dataframe tbody tr th:only-of-type {\n",
              "        vertical-align: middle;\n",
              "    }\n",
              "\n",
              "    .dataframe tbody tr th {\n",
              "        vertical-align: top;\n",
              "    }\n",
              "\n",
              "    .dataframe thead th {\n",
              "        text-align: right;\n",
              "    }\n",
              "</style>\n",
              "<table border=\"1\" class=\"dataframe\">\n",
              "  <thead>\n",
              "    <tr style=\"text-align: right;\">\n",
              "      <th></th>\n",
              "      <th>column</th>\n",
              "      <th>percent</th>\n",
              "    </tr>\n",
              "  </thead>\n",
              "  <tbody>\n",
              "    <tr>\n",
              "      <th>11</th>\n",
              "      <td>source</td>\n",
              "      <td>0.04</td>\n",
              "    </tr>\n",
              "    <tr>\n",
              "      <th>2</th>\n",
              "      <td>user_description</td>\n",
              "      <td>5.74</td>\n",
              "    </tr>\n",
              "    <tr>\n",
              "      <th>1</th>\n",
              "      <td>user_location</td>\n",
              "      <td>20.53</td>\n",
              "    </tr>\n",
              "    <tr>\n",
              "      <th>10</th>\n",
              "      <td>hashtags</td>\n",
              "      <td>28.66</td>\n",
              "    </tr>\n",
              "  </tbody>\n",
              "</table>\n",
              "</div>"
            ],
            "text/plain": [
              "              column  percent\n",
              "11            source     0.04\n",
              "2   user_description     5.74\n",
              "1      user_location    20.53\n",
              "10          hashtags    28.66"
            ]
          },
          "metadata": {
            "tags": []
          },
          "execution_count": 12
        }
      ]
    },
    {
      "cell_type": "code",
      "metadata": {
        "id": "9s3W8303IimP",
        "outputId": "e96d5d1d-6175-4032-d551-9fef17f00873",
        "colab": {
          "base_uri": "https://localhost:8080/",
          "height": 372
        }
      },
      "source": [
        "missed.plot(kind = 'bar', x = 'column', y ='percent' )"
      ],
      "execution_count": null,
      "outputs": [
        {
          "output_type": "execute_result",
          "data": {
            "text/plain": [
              "<matplotlib.axes._subplots.AxesSubplot at 0x7fa55ec90978>"
            ]
          },
          "metadata": {
            "tags": []
          },
          "execution_count": 16
        },
        {
          "output_type": "display_data",
          "data": {
            "image/png": "[encoded data removed]",
            "text/plain": [
              "<Figure size 432x288 with 1 Axes>"
            ]
          },
          "metadata": {
            "tags": [],
            "needs_background": "light"
          }
        }
      ]
    },
    {
      "cell_type": "markdown",
      "metadata": {
        "id": "yh7bKG-FX3Qt"
      },
      "source": [
        "### xử lý việc thiếu dữ liệu\n"
      ]
    },
    {
      "cell_type": "markdown",
      "metadata": {
        "id": "XTKQi6RpYP07"
      },
      "source": [
        "#### xóa bỏ dòng bị thiếu\n"
      ]
    },
    {
      "cell_type": "markdown",
      "metadata": {
        "id": "uNivc3PKYbyt"
      },
      "source": [
        "<img src='https://miro.medium.com/max/478/1*8JcQbPb86ZNIzeeUgWva2w.png'>\n",
        "<br>\n",
        "\n",
        "\n",
        "1.   how = 'all': tất cả cột bị thiếu mới xóa<br>\n",
        "    how ='any' : chỉ 1 cột bị thiếu cũng xóa\n",
        "    \n",
        "2.   axis = 0 : theo chiều ngang, =1 là theo chiều dọc\n",
        "3.   inplace:  thay thế vào chính thằng nào đang gọi hàm\n",
        "\n"
      ]
    },
    {
      "cell_type": "markdown",
      "metadata": {
        "id": "bXOjWI_rZBe3"
      },
      "source": [
        "#### thay thế bằng một giá trị khác\n",
        "\n",
        "\n",
        "```\n",
        "df.fillna(value)\n",
        "```\n",
        "<img src = \"https://miro.medium.com/max/700/1*jNpCcy6oiV1xRO_KsyQA_Q.png\"> \n",
        "<br>\n",
        "hoặc dùng hàm \"ffill\" : thay thế giá trị trước đó\n",
        "\"bfill\" thay thế giá trị sau nó\n",
        "\n",
        "<img src = \"https://miro.medium.com/max/390/1*1ZdUVVXfVJR2olroxFEwvg.png\">\n"
      ]
    },
    {
      "cell_type": "markdown",
      "metadata": {
        "id": "O5ecv_5zLH3Z"
      },
      "source": [
        "### tìm top 40 username đăng nhiều nhất"
      ]
    },
    {
      "cell_type": "code",
      "metadata": {
        "id": "2OlMkhIjKJHy"
      },
      "source": [
        "df_user = df_covid['user_name'].value_counts().reset_index()"
      ],
      "execution_count": null,
      "outputs": []
    },
    {
      "cell_type": "code",
      "metadata": {
        "id": "R5eOHdHqLZ0G",
        "outputId": "6d970d04-1670-4b13-a981-3af04e0c0559",
        "colab": {
          "base_uri": "https://localhost:8080/",
          "height": 419
        }
      },
      "source": [
        "df_user"
      ],
      "execution_count": null,
      "outputs": [
        {
          "output_type": "execute_result",
          "data": {
            "text/html": [
              "<div>\n",
              "<style scoped>\n",
              "    .dataframe tbody tr th:only-of-type {\n",
              "        vertical-align: middle;\n",
              "    }\n",
              "\n",
              "    .dataframe tbody tr th {\n",
              "        vertical-align: top;\n",
              "    }\n",
              "\n",
              "    .dataframe thead th {\n",
              "        text-align: right;\n",
              "    }\n",
              "</style>\n",
              "<table border=\"1\" class=\"dataframe\">\n",
              "  <thead>\n",
              "    <tr style=\"text-align: right;\">\n",
              "      <th></th>\n",
              "      <th>index</th>\n",
              "      <th>user_name</th>\n",
              "    </tr>\n",
              "  </thead>\n",
              "  <tbody>\n",
              "    <tr>\n",
              "      <th>0</th>\n",
              "      <td>GlobalPandemic.NET</td>\n",
              "      <td>679</td>\n",
              "    </tr>\n",
              "    <tr>\n",
              "      <th>1</th>\n",
              "      <td>Coronavirus Updates</td>\n",
              "      <td>625</td>\n",
              "    </tr>\n",
              "    <tr>\n",
              "      <th>2</th>\n",
              "      <td>covidnews.ch</td>\n",
              "      <td>402</td>\n",
              "    </tr>\n",
              "    <tr>\n",
              "      <th>3</th>\n",
              "      <td>Open Letters</td>\n",
              "      <td>390</td>\n",
              "    </tr>\n",
              "    <tr>\n",
              "      <th>4</th>\n",
              "      <td>Blood Donors India</td>\n",
              "      <td>282</td>\n",
              "    </tr>\n",
              "    <tr>\n",
              "      <th>...</th>\n",
              "      <td>...</td>\n",
              "      <td>...</td>\n",
              "    </tr>\n",
              "    <tr>\n",
              "      <th>92271</th>\n",
              "      <td>Ornella Garrone</td>\n",
              "      <td>1</td>\n",
              "    </tr>\n",
              "    <tr>\n",
              "      <th>92272</th>\n",
              "      <td>Sameer Naqvi</td>\n",
              "      <td>1</td>\n",
              "    </tr>\n",
              "    <tr>\n",
              "      <th>92273</th>\n",
              "      <td>June Spring</td>\n",
              "      <td>1</td>\n",
              "    </tr>\n",
              "    <tr>\n",
              "      <th>92274</th>\n",
              "      <td>Community Living Hamilton</td>\n",
              "      <td>1</td>\n",
              "    </tr>\n",
              "    <tr>\n",
              "      <th>92275</th>\n",
              "      <td>TheGlobalHealthNetwork</td>\n",
              "      <td>1</td>\n",
              "    </tr>\n",
              "  </tbody>\n",
              "</table>\n",
              "<p>92276 rows × 2 columns</p>\n",
              "</div>"
            ],
            "text/plain": [
              "                           index  user_name\n",
              "0             GlobalPandemic.NET        679\n",
              "1            Coronavirus Updates        625\n",
              "2                   covidnews.ch        402\n",
              "3                   Open Letters        390\n",
              "4             Blood Donors India        282\n",
              "...                          ...        ...\n",
              "92271            Ornella Garrone          1\n",
              "92272               Sameer Naqvi          1\n",
              "92273                June Spring          1\n",
              "92274  Community Living Hamilton          1\n",
              "92275     TheGlobalHealthNetwork          1\n",
              "\n",
              "[92276 rows x 2 columns]"
            ]
          },
          "metadata": {
            "tags": []
          },
          "execution_count": 56
        }
      ]
    },
    {
      "cell_type": "code",
      "metadata": {
        "id": "0cLoUTL7L65G"
      },
      "source": [
        "df_user.columns = [\"name\", \"size\"]"
      ],
      "execution_count": null,
      "outputs": []
    },
    {
      "cell_type": "code",
      "metadata": {
        "id": "5rsjeFjIMbHt",
        "outputId": "23c39eff-8764-4715-9abd-065850757c42",
        "colab": {
          "base_uri": "https://localhost:8080/",
          "height": 419
        }
      },
      "source": [
        "df_user"
      ],
      "execution_count": null,
      "outputs": [
        {
          "output_type": "execute_result",
          "data": {
            "text/html": [
              "<div>\n",
              "<style scoped>\n",
              "    .dataframe tbody tr th:only-of-type {\n",
              "        vertical-align: middle;\n",
              "    }\n",
              "\n",
              "    .dataframe tbody tr th {\n",
              "        vertical-align: top;\n",
              "    }\n",
              "\n",
              "    .dataframe thead th {\n",
              "        text-align: right;\n",
              "    }\n",
              "</style>\n",
              "<table border=\"1\" class=\"dataframe\">\n",
              "  <thead>\n",
              "    <tr style=\"text-align: right;\">\n",
              "      <th></th>\n",
              "      <th>name</th>\n",
              "      <th>size</th>\n",
              "    </tr>\n",
              "  </thead>\n",
              "  <tbody>\n",
              "    <tr>\n",
              "      <th>0</th>\n",
              "      <td>GlobalPandemic.NET</td>\n",
              "      <td>679</td>\n",
              "    </tr>\n",
              "    <tr>\n",
              "      <th>1</th>\n",
              "      <td>Coronavirus Updates</td>\n",
              "      <td>625</td>\n",
              "    </tr>\n",
              "    <tr>\n",
              "      <th>2</th>\n",
              "      <td>covidnews.ch</td>\n",
              "      <td>402</td>\n",
              "    </tr>\n",
              "    <tr>\n",
              "      <th>3</th>\n",
              "      <td>Open Letters</td>\n",
              "      <td>390</td>\n",
              "    </tr>\n",
              "    <tr>\n",
              "      <th>4</th>\n",
              "      <td>Blood Donors India</td>\n",
              "      <td>282</td>\n",
              "    </tr>\n",
              "    <tr>\n",
              "      <th>...</th>\n",
              "      <td>...</td>\n",
              "      <td>...</td>\n",
              "    </tr>\n",
              "    <tr>\n",
              "      <th>92271</th>\n",
              "      <td>Ornella Garrone</td>\n",
              "      <td>1</td>\n",
              "    </tr>\n",
              "    <tr>\n",
              "      <th>92272</th>\n",
              "      <td>Sameer Naqvi</td>\n",
              "      <td>1</td>\n",
              "    </tr>\n",
              "    <tr>\n",
              "      <th>92273</th>\n",
              "      <td>June Spring</td>\n",
              "      <td>1</td>\n",
              "    </tr>\n",
              "    <tr>\n",
              "      <th>92274</th>\n",
              "      <td>Community Living Hamilton</td>\n",
              "      <td>1</td>\n",
              "    </tr>\n",
              "    <tr>\n",
              "      <th>92275</th>\n",
              "      <td>TheGlobalHealthNetwork</td>\n",
              "      <td>1</td>\n",
              "    </tr>\n",
              "  </tbody>\n",
              "</table>\n",
              "<p>92276 rows × 2 columns</p>\n",
              "</div>"
            ],
            "text/plain": [
              "                            name  size\n",
              "0             GlobalPandemic.NET   679\n",
              "1            Coronavirus Updates   625\n",
              "2                   covidnews.ch   402\n",
              "3                   Open Letters   390\n",
              "4             Blood Donors India   282\n",
              "...                          ...   ...\n",
              "92271            Ornella Garrone     1\n",
              "92272               Sameer Naqvi     1\n",
              "92273                June Spring     1\n",
              "92274  Community Living Hamilton     1\n",
              "92275     TheGlobalHealthNetwork     1\n",
              "\n",
              "[92276 rows x 2 columns]"
            ]
          },
          "metadata": {
            "tags": []
          },
          "execution_count": 61
        }
      ]
    },
    {
      "cell_type": "code",
      "metadata": {
        "id": "LmQNogCQNTp0"
      },
      "source": [
        "df_user = df_user.nlargest(10,'size')"
      ],
      "execution_count": null,
      "outputs": []
    },
    {
      "cell_type": "code",
      "metadata": {
        "id": "g82WvHNkOBPe",
        "outputId": "d2f8e590-d275-4527-bc69-16bf7849b118",
        "colab": {
          "base_uri": "https://localhost:8080/",
          "height": 359
        }
      },
      "source": [
        "df_user"
      ],
      "execution_count": null,
      "outputs": [
        {
          "output_type": "execute_result",
          "data": {
            "text/html": [
              "<div>\n",
              "<style scoped>\n",
              "    .dataframe tbody tr th:only-of-type {\n",
              "        vertical-align: middle;\n",
              "    }\n",
              "\n",
              "    .dataframe tbody tr th {\n",
              "        vertical-align: top;\n",
              "    }\n",
              "\n",
              "    .dataframe thead th {\n",
              "        text-align: right;\n",
              "    }\n",
              "</style>\n",
              "<table border=\"1\" class=\"dataframe\">\n",
              "  <thead>\n",
              "    <tr style=\"text-align: right;\">\n",
              "      <th></th>\n",
              "      <th>name</th>\n",
              "      <th>size</th>\n",
              "    </tr>\n",
              "  </thead>\n",
              "  <tbody>\n",
              "    <tr>\n",
              "      <th>0</th>\n",
              "      <td>GlobalPandemic.NET</td>\n",
              "      <td>679</td>\n",
              "    </tr>\n",
              "    <tr>\n",
              "      <th>1</th>\n",
              "      <td>Coronavirus Updates</td>\n",
              "      <td>625</td>\n",
              "    </tr>\n",
              "    <tr>\n",
              "      <th>2</th>\n",
              "      <td>covidnews.ch</td>\n",
              "      <td>402</td>\n",
              "    </tr>\n",
              "    <tr>\n",
              "      <th>3</th>\n",
              "      <td>Open Letters</td>\n",
              "      <td>390</td>\n",
              "    </tr>\n",
              "    <tr>\n",
              "      <th>4</th>\n",
              "      <td>Blood Donors India</td>\n",
              "      <td>282</td>\n",
              "    </tr>\n",
              "    <tr>\n",
              "      <th>5</th>\n",
              "      <td>Hindustan Times</td>\n",
              "      <td>280</td>\n",
              "    </tr>\n",
              "    <tr>\n",
              "      <th>6</th>\n",
              "      <td>IAM Platform</td>\n",
              "      <td>266</td>\n",
              "    </tr>\n",
              "    <tr>\n",
              "      <th>7</th>\n",
              "      <td>Paperbirds_Coronavirus</td>\n",
              "      <td>259</td>\n",
              "    </tr>\n",
              "    <tr>\n",
              "      <th>8</th>\n",
              "      <td>IANS Tweets</td>\n",
              "      <td>244</td>\n",
              "    </tr>\n",
              "    <tr>\n",
              "      <th>9</th>\n",
              "      <td>ANI</td>\n",
              "      <td>233</td>\n",
              "    </tr>\n",
              "  </tbody>\n",
              "</table>\n",
              "</div>"
            ],
            "text/plain": [
              "                     name  size\n",
              "0      GlobalPandemic.NET   679\n",
              "1     Coronavirus Updates   625\n",
              "2            covidnews.ch   402\n",
              "3            Open Letters   390\n",
              "4      Blood Donors India   282\n",
              "5         Hindustan Times   280\n",
              "6            IAM Platform   266\n",
              "7  Paperbirds_Coronavirus   259\n",
              "8             IANS Tweets   244\n",
              "9                     ANI   233"
            ]
          },
          "metadata": {
            "tags": []
          },
          "execution_count": 74
        }
      ]
    },
    {
      "cell_type": "code",
      "metadata": {
        "id": "rS4mjc9MN24a",
        "outputId": "c3701942-fb4a-46a8-dd66-3cd4e29ce026",
        "colab": {
          "base_uri": "https://localhost:8080/",
          "height": 849
        }
      },
      "source": [
        "df_user.plot.barh(x= 'name', y= 'size', figsize = (20,20))"
      ],
      "execution_count": null,
      "outputs": [
        {
          "output_type": "execute_result",
          "data": {
            "text/plain": [
              "<matplotlib.axes._subplots.AxesSubplot at 0x7fa55502e160>"
            ]
          },
          "metadata": {
            "tags": []
          },
          "execution_count": 76
        },
        {
          "output_type": "display_data",
          "data": {
            "image/png": "[encoded data removed]",
            "text/plain": [
              "<Figure size 1440x1440 with 1 Axes>"
            ]
          },
          "metadata": {
            "tags": [],
            "needs_background": "light"
          }
        }
      ]
    },
    {
      "cell_type": "code",
      "metadata": {
        "id": "0ZVMSLasP0Mz"
      },
      "source": [
        ""
      ],
      "execution_count": null,
      "outputs": []
    },
    {
      "cell_type": "markdown",
      "metadata": {
        "id": "e-50FWlhQ0XU"
      },
      "source": [
        "### tìm 10 user có lượt follow cao nhất, hiển thị ra dạng barchart"
      ]
    },
    {
      "cell_type": "code",
      "metadata": {
        "id": "gkmT0SerQ31V"
      },
      "source": [
        "df_folower = df_covid.sort_values('user_followers', ascending=False)\n"
      ],
      "execution_count": null,
      "outputs": []
    },
    {
      "cell_type": "code",
      "metadata": {
        "id": "Qky70n9wRLgX",
        "outputId": "1e13f9f4-574d-47d8-da21-be5f5299afc5",
        "colab": {
          "base_uri": "https://localhost:8080/",
          "height": 796
        }
      },
      "source": [
        "df_folower"
      ],
      "execution_count": null,
      "outputs": [
        {
          "output_type": "execute_result",
          "data": {
            "text/html": [
              "<div>\n",
              "<style scoped>\n",
              "    .dataframe tbody tr th:only-of-type {\n",
              "        vertical-align: middle;\n",
              "    }\n",
              "\n",
              "    .dataframe tbody tr th {\n",
              "        vertical-align: top;\n",
              "    }\n",
              "\n",
              "    .dataframe thead th {\n",
              "        text-align: right;\n",
              "    }\n",
              "</style>\n",
              "<table border=\"1\" class=\"dataframe\">\n",
              "  <thead>\n",
              "    <tr style=\"text-align: right;\">\n",
              "      <th></th>\n",
              "      <th>user_name</th>\n",
              "      <th>user_location</th>\n",
              "      <th>user_description</th>\n",
              "      <th>user_created</th>\n",
              "      <th>user_followers</th>\n",
              "      <th>user_friends</th>\n",
              "      <th>user_favourites</th>\n",
              "      <th>user_verified</th>\n",
              "      <th>date</th>\n",
              "      <th>text</th>\n",
              "      <th>hashtags</th>\n",
              "      <th>source</th>\n",
              "      <th>is_retweet</th>\n",
              "    </tr>\n",
              "  </thead>\n",
              "  <tbody>\n",
              "    <tr>\n",
              "      <th>104946</th>\n",
              "      <td>CNN</td>\n",
              "      <td>NaN</td>\n",
              "      <td>It’s our job to #GoThere &amp; tell the most diffi...</td>\n",
              "      <td>2007-02-09 00:35:02</td>\n",
              "      <td>49442559</td>\n",
              "      <td>1109</td>\n",
              "      <td>1424</td>\n",
              "      <td>True</td>\n",
              "      <td>2020-08-11 09:26:02</td>\n",
              "      <td>\"Thought I'd show you what #Covid19 does to yo...</td>\n",
              "      <td>['Covid19']</td>\n",
              "      <td>SocialFlow</td>\n",
              "      <td>False</td>\n",
              "    </tr>\n",
              "    <tr>\n",
              "      <th>174909</th>\n",
              "      <td>National Geographic</td>\n",
              "      <td>Global</td>\n",
              "      <td>Taking our understanding and awareness of the ...</td>\n",
              "      <td>2008-11-18 21:28:10</td>\n",
              "      <td>24359165</td>\n",
              "      <td>147</td>\n",
              "      <td>6978</td>\n",
              "      <td>True</td>\n",
              "      <td>2020-08-30 00:10:04</td>\n",
              "      <td>Though no easy fix has been discovered for #CO...</td>\n",
              "      <td>['COVID19']</td>\n",
              "      <td>Khoros</td>\n",
              "      <td>False</td>\n",
              "    </tr>\n",
              "    <tr>\n",
              "      <th>6959</th>\n",
              "      <td>CGTN</td>\n",
              "      <td>Beijing, China</td>\n",
              "      <td>#SeeTheDifference with CGTN as we bring you st...</td>\n",
              "      <td>2013-01-24 03:18:59</td>\n",
              "      <td>13892841</td>\n",
              "      <td>69</td>\n",
              "      <td>104</td>\n",
              "      <td>True</td>\n",
              "      <td>2020-07-25 08:00:00</td>\n",
              "      <td>#VoicesfromBeltandRoad: #COVID19 rap song aler...</td>\n",
              "      <td>['VoicesfromBeltandRoad', 'COVID19']</td>\n",
              "      <td>Twitter Media Studio</td>\n",
              "      <td>False</td>\n",
              "    </tr>\n",
              "    <tr>\n",
              "      <th>13450</th>\n",
              "      <td>CGTN</td>\n",
              "      <td>Beijing, China</td>\n",
              "      <td>#SeeTheDifference with CGTN as we bring you st...</td>\n",
              "      <td>2013-01-24 03:18:59</td>\n",
              "      <td>13892839</td>\n",
              "      <td>69</td>\n",
              "      <td>104</td>\n",
              "      <td>True</td>\n",
              "      <td>2020-07-25 02:43:57</td>\n",
              "      <td>#China's civil aviation recovers as daily flig...</td>\n",
              "      <td>['China']</td>\n",
              "      <td>Twitter Web App</td>\n",
              "      <td>False</td>\n",
              "    </tr>\n",
              "    <tr>\n",
              "      <th>16194</th>\n",
              "      <td>CGTN</td>\n",
              "      <td>Beijing, China</td>\n",
              "      <td>#SeeTheDifference with CGTN as we bring you st...</td>\n",
              "      <td>2013-01-24 03:18:59</td>\n",
              "      <td>13892837</td>\n",
              "      <td>69</td>\n",
              "      <td>104</td>\n",
              "      <td>True</td>\n",
              "      <td>2020-07-25 00:27:38</td>\n",
              "      <td>On Friday, the #Chinese mainland reported:\\n \\...</td>\n",
              "      <td>['Chinese', 'Xinjiang']</td>\n",
              "      <td>Twitter Web App</td>\n",
              "      <td>False</td>\n",
              "    </tr>\n",
              "    <tr>\n",
              "      <th>...</th>\n",
              "      <td>...</td>\n",
              "      <td>...</td>\n",
              "      <td>...</td>\n",
              "      <td>...</td>\n",
              "      <td>...</td>\n",
              "      <td>...</td>\n",
              "      <td>...</td>\n",
              "      <td>...</td>\n",
              "      <td>...</td>\n",
              "      <td>...</td>\n",
              "      <td>...</td>\n",
              "      <td>...</td>\n",
              "      <td>...</td>\n",
              "    </tr>\n",
              "    <tr>\n",
              "      <th>127964</th>\n",
              "      <td>Cygnus Professionals Inc.</td>\n",
              "      <td>NaN</td>\n",
              "      <td>Cygnus Professionals Inc. is a next-generation...</td>\n",
              "      <td>2020-02-24 09:47:21</td>\n",
              "      <td>0</td>\n",
              "      <td>0</td>\n",
              "      <td>0</td>\n",
              "      <td>False</td>\n",
              "      <td>2020-08-14 05:00:11</td>\n",
              "      <td>Blockchain can be used for tracking public hea...</td>\n",
              "      <td>NaN</td>\n",
              "      <td>Postfity.com</td>\n",
              "      <td>False</td>\n",
              "    </tr>\n",
              "    <tr>\n",
              "      <th>175996</th>\n",
              "      <td>Anna Lisa Valderrama</td>\n",
              "      <td>NaN</td>\n",
              "      <td>Litigation Paralegal</td>\n",
              "      <td>2020-05-15 18:25:18</td>\n",
              "      <td>0</td>\n",
              "      <td>1</td>\n",
              "      <td>0</td>\n",
              "      <td>False</td>\n",
              "      <td>2020-08-29 22:49:28</td>\n",
              "      <td>How Bad is #COVID19 in TX Nursing Homes? | Cor...</td>\n",
              "      <td>['COVID19']</td>\n",
              "      <td>Clearview Social, Inc.</td>\n",
              "      <td>False</td>\n",
              "    </tr>\n",
              "    <tr>\n",
              "      <th>53096</th>\n",
              "      <td>Covid π = Death</td>\n",
              "      <td>NaN</td>\n",
              "      <td>By Donald Trump's description of John McCain, ...</td>\n",
              "      <td>2020-06-23 00:01:09</td>\n",
              "      <td>0</td>\n",
              "      <td>16</td>\n",
              "      <td>24</td>\n",
              "      <td>False</td>\n",
              "      <td>2020-08-01 18:40:54</td>\n",
              "      <td>He said he thinks you'll get over it @realDona...</td>\n",
              "      <td>NaN</td>\n",
              "      <td>Twitter for Android</td>\n",
              "      <td>False</td>\n",
              "    </tr>\n",
              "    <tr>\n",
              "      <th>159549</th>\n",
              "      <td>Mohammed Zaid khilji</td>\n",
              "      <td>NaN</td>\n",
              "      <td>My youtube channel link.... https://t.co/K0b4f...</td>\n",
              "      <td>2020-08-14 11:18:01</td>\n",
              "      <td>0</td>\n",
              "      <td>13</td>\n",
              "      <td>29</td>\n",
              "      <td>False</td>\n",
              "      <td>2020-08-22 07:07:42</td>\n",
              "      <td>Sab afford nahi kar sak tay personal vehicle p...</td>\n",
              "      <td>['neetjeepostpone', 'NarendraModi', 'healthy']</td>\n",
              "      <td>Twitter for Android</td>\n",
              "      <td>False</td>\n",
              "    </tr>\n",
              "    <tr>\n",
              "      <th>9808</th>\n",
              "      <td>blinkbloomdesign</td>\n",
              "      <td>India</td>\n",
              "      <td>Graphic Design, Logo &amp; Brand Identity Design, ...</td>\n",
              "      <td>2020-07-24 08:30:20</td>\n",
              "      <td>0</td>\n",
              "      <td>2</td>\n",
              "      <td>0</td>\n",
              "      <td>False</td>\n",
              "      <td>2020-07-25 05:52:43</td>\n",
              "      <td>Wear a mask protect yourself and your family #...</td>\n",
              "      <td>['covid19', 'breakthechains', 'wearamask']</td>\n",
              "      <td>Instagram</td>\n",
              "      <td>False</td>\n",
              "    </tr>\n",
              "  </tbody>\n",
              "</table>\n",
              "<p>179108 rows × 13 columns</p>\n",
              "</div>"
            ],
            "text/plain": [
              "                        user_name  ... is_retweet\n",
              "104946                        CNN  ...      False\n",
              "174909        National Geographic  ...      False\n",
              "6959                         CGTN  ...      False\n",
              "13450                        CGTN  ...      False\n",
              "16194                        CGTN  ...      False\n",
              "...                           ...  ...        ...\n",
              "127964  Cygnus Professionals Inc.  ...      False\n",
              "175996       Anna Lisa Valderrama  ...      False\n",
              "53096             Covid π = Death  ...      False\n",
              "159549       Mohammed Zaid khilji  ...      False\n",
              "9808             blinkbloomdesign  ...      False\n",
              "\n",
              "[179108 rows x 13 columns]"
            ]
          },
          "metadata": {
            "tags": []
          },
          "execution_count": 87
        }
      ]
    },
    {
      "cell_type": "code",
      "metadata": {
        "id": "TLuSP-s2RM-g"
      },
      "source": [
        "df_folower = df_folower.drop_duplicates(subset='user_name', keep=\"first\")"
      ],
      "execution_count": null,
      "outputs": []
    },
    {
      "cell_type": "code",
      "metadata": {
        "id": "hYadDvI0RfMt"
      },
      "source": [
        "df_folower = df_folower[['user_name', 'user_followers']]"
      ],
      "execution_count": null,
      "outputs": []
    },
    {
      "cell_type": "code",
      "metadata": {
        "id": "533TRzKZRy0n"
      },
      "source": [
        "df_folower = df_folower.nlargest(10,'user_followers')"
      ],
      "execution_count": null,
      "outputs": []
    },
    {
      "cell_type": "code",
      "metadata": {
        "id": "n7-voYbtRip9",
        "outputId": "aa498f12-3928-483a-e96a-c9c63d234568",
        "colab": {
          "base_uri": "https://localhost:8080/",
          "height": 869
        }
      },
      "source": [
        "df_folower.plot.barh(x= 'user_name', y= 'user_followers', figsize = (20,20))"
      ],
      "execution_count": null,
      "outputs": [
        {
          "output_type": "execute_result",
          "data": {
            "text/plain": [
              "<matplotlib.axes._subplots.AxesSubplot at 0x7fa54d9ea2b0>"
            ]
          },
          "metadata": {
            "tags": []
          },
          "execution_count": 91
        },
        {
          "output_type": "display_data",
          "data": {
            "image/png": "[encoded data removed]",
            "text/plain": [
              "<Figure size 1440x1440 with 1 Axes>"
            ]
          },
          "metadata": {
            "tags": [],
            "needs_background": "light"
          }
        }
      ]
    },
    {
      "cell_type": "code",
      "metadata": {
        "id": "dDiThquYRvPG"
      },
      "source": [
        ""
      ],
      "execution_count": null,
      "outputs": []
    },
    {
      "cell_type": "markdown",
      "metadata": {
        "id": "NEWOeBC9SJUf"
      },
      "source": [
        "### thống kê theo location"
      ]
    },
    {
      "cell_type": "code",
      "metadata": {
        "id": "IMDUNZNCSMKP"
      },
      "source": [
        "df_location = df_covid['user_location'].value_counts().reset_index()\n",
        "df_location.columns = ['user_location', 'count']\n",
        "df_location = df_location[df_location['user_location']!='NA']\n",
        "df_location = df_location.sort_values(['count'])"
      ],
      "execution_count": null,
      "outputs": []
    },
    {
      "cell_type": "code",
      "metadata": {
        "id": "nySKjfVpSWKP",
        "outputId": "e358c0b2-4aba-412f-ae1d-2aeb3a638a26",
        "colab": {
          "base_uri": "https://localhost:8080/",
          "height": 419
        }
      },
      "source": [
        "df_location"
      ],
      "execution_count": null,
      "outputs": [
        {
          "output_type": "execute_result",
          "data": {
            "text/html": [
              "<div>\n",
              "<style scoped>\n",
              "    .dataframe tbody tr th:only-of-type {\n",
              "        vertical-align: middle;\n",
              "    }\n",
              "\n",
              "    .dataframe tbody tr th {\n",
              "        vertical-align: top;\n",
              "    }\n",
              "\n",
              "    .dataframe thead th {\n",
              "        text-align: right;\n",
              "    }\n",
              "</style>\n",
              "<table border=\"1\" class=\"dataframe\">\n",
              "  <thead>\n",
              "    <tr style=\"text-align: right;\">\n",
              "      <th></th>\n",
              "      <th>user_location</th>\n",
              "      <th>count</th>\n",
              "    </tr>\n",
              "  </thead>\n",
              "  <tbody>\n",
              "    <tr>\n",
              "      <th>13459</th>\n",
              "      <td>Plateau State</td>\n",
              "      <td>1</td>\n",
              "    </tr>\n",
              "    <tr>\n",
              "      <th>17952</th>\n",
              "      <td>New York / London / Singapore</td>\n",
              "      <td>1</td>\n",
              "    </tr>\n",
              "    <tr>\n",
              "      <th>17951</th>\n",
              "      <td>gratitude jar 🌷</td>\n",
              "      <td>1</td>\n",
              "    </tr>\n",
              "    <tr>\n",
              "      <th>17950</th>\n",
              "      <td>Bahrain/London/Paris</td>\n",
              "      <td>1</td>\n",
              "    </tr>\n",
              "    <tr>\n",
              "      <th>17949</th>\n",
              "      <td>Washington county, Maine</td>\n",
              "      <td>1</td>\n",
              "    </tr>\n",
              "    <tr>\n",
              "      <th>...</th>\n",
              "      <td>...</td>\n",
              "      <td>...</td>\n",
              "    </tr>\n",
              "    <tr>\n",
              "      <th>4</th>\n",
              "      <td>Washington, DC</td>\n",
              "      <td>1354</td>\n",
              "    </tr>\n",
              "    <tr>\n",
              "      <th>3</th>\n",
              "      <td>Mumbai, India</td>\n",
              "      <td>1401</td>\n",
              "    </tr>\n",
              "    <tr>\n",
              "      <th>2</th>\n",
              "      <td>New Delhi, India</td>\n",
              "      <td>1721</td>\n",
              "    </tr>\n",
              "    <tr>\n",
              "      <th>1</th>\n",
              "      <td>United States</td>\n",
              "      <td>2455</td>\n",
              "    </tr>\n",
              "    <tr>\n",
              "      <th>0</th>\n",
              "      <td>India</td>\n",
              "      <td>3741</td>\n",
              "    </tr>\n",
              "  </tbody>\n",
              "</table>\n",
              "<p>26920 rows × 2 columns</p>\n",
              "</div>"
            ],
            "text/plain": [
              "                       user_location  count\n",
              "13459                  Plateau State      1\n",
              "17952  New York / London / Singapore      1\n",
              "17951                gratitude jar 🌷      1\n",
              "17950           Bahrain/London/Paris      1\n",
              "17949       Washington county, Maine      1\n",
              "...                              ...    ...\n",
              "4                     Washington, DC   1354\n",
              "3                      Mumbai, India   1401\n",
              "2                   New Delhi, India   1721\n",
              "1                      United States   2455\n",
              "0                              India   3741\n",
              "\n",
              "[26920 rows x 2 columns]"
            ]
          },
          "metadata": {
            "tags": []
          },
          "execution_count": 94
        }
      ]
    },
    {
      "cell_type": "code",
      "metadata": {
        "id": "fJ-DMiYISfV9"
      },
      "source": [
        "df_location = df_location.nlargest(10,'count')"
      ],
      "execution_count": null,
      "outputs": []
    },
    {
      "cell_type": "code",
      "metadata": {
        "id": "8HXzlRGjSmys",
        "outputId": "a929f76e-73ca-4afe-8a88-0915f1d37fb7",
        "colab": {
          "base_uri": "https://localhost:8080/",
          "height": 282
        }
      },
      "source": [
        "df_location.plot.barh(x= 'user_location', y = 'count')"
      ],
      "execution_count": null,
      "outputs": [
        {
          "output_type": "execute_result",
          "data": {
            "text/plain": [
              "<matplotlib.axes._subplots.AxesSubplot at 0x7fa54d972080>"
            ]
          },
          "metadata": {
            "tags": []
          },
          "execution_count": 96
        },
        {
          "output_type": "display_data",
          "data": {
            "image/png": "[encoded data removed]",
            "text/plain": [
              "<Figure size 432x288 with 1 Axes>"
            ]
          },
          "metadata": {
            "tags": [],
            "needs_background": "light"
          }
        }
      ]
    },
    {
      "cell_type": "markdown",
      "metadata": {
        "id": "1QbO-_5tTCaZ"
      },
      "source": [
        "### thống kê theo thiết bị người dùng"
      ]
    },
    {
      "cell_type": "code",
      "metadata": {
        "id": "eukxxnSVSuI9",
        "outputId": "c8b14288-eee0-4690-a2eb-40b3826a929b",
        "colab": {
          "base_uri": "https://localhost:8080/",
          "height": 282
        }
      },
      "source": [
        "df_device = df_covid['source'].value_counts().reset_index()\n",
        "df_device.columns = ['source', 'count']\n",
        "df_device = df_device.sort_values(['count'])\n",
        "df_device = df_device.nlargest(10,'count')\n",
        "df_device.plot.barh(x= 'source', y = 'count')\n"
      ],
      "execution_count": null,
      "outputs": [
        {
          "output_type": "execute_result",
          "data": {
            "text/plain": [
              "<matplotlib.axes._subplots.AxesSubplot at 0x7fa54d95b240>"
            ]
          },
          "metadata": {
            "tags": []
          },
          "execution_count": 99
        },
        {
          "output_type": "display_data",
          "data": {
            "image/png": "[encoded data removed]",
            "text/plain": [
              "<Figure size 432x288 with 1 Axes>"
            ]
          },
          "metadata": {
            "tags": [],
            "needs_background": "light"
          }
        }
      ]
    },
    {
      "cell_type": "code",
      "metadata": {
        "id": "nsrTAHagTQBe"
      },
      "source": [
        ""
      ],
      "execution_count": null,
      "outputs": []
    },
    {
      "cell_type": "markdown",
      "metadata": {
        "id": "iWPuW4agTh5p"
      },
      "source": [
        "### phân tích hashtag"
      ]
    },
    {
      "cell_type": "markdown",
      "metadata": {
        "id": "GvjuhIcjTrNS"
      },
      "source": [
        "#### clear dữ liệu trống"
      ]
    },
    {
      "cell_type": "code",
      "metadata": {
        "id": "YHc-Q6QdTuRO"
      },
      "source": [
        "df_covid['hashtags'] = df_covid['hashtags'].fillna('[]')"
      ],
      "execution_count": null,
      "outputs": []
    },
    {
      "cell_type": "markdown",
      "metadata": {
        "id": "ri_jhIjHVHCc"
      },
      "source": [
        "#### tạo một cột mới đếm số lượng hashtags"
      ]
    },
    {
      "cell_type": "code",
      "metadata": {
        "id": "dqAJoH-cTzcs"
      },
      "source": [
        "df_covid['hashtags_count'] = df_covid['hashtags'].apply(lambda x: len(x.split(',')))\n",
        "df_covid.loc[df_covid['hashtags'] == '[]', 'hashtags_count'] = 0"
      ],
      "execution_count": null,
      "outputs": []
    },
    {
      "cell_type": "code",
      "metadata": {
        "id": "IVLOI49oTkKM",
        "outputId": "da7e7547-f1df-4380-9636-2a1e501d823c",
        "colab": {
          "base_uri": "https://localhost:8080/"
        }
      },
      "source": [
        "df_covid['hashtags_count'].describe()"
      ],
      "execution_count": null,
      "outputs": [
        {
          "output_type": "execute_result",
          "data": {
            "text/plain": [
              "count    179108.000000\n",
              "mean          1.485104\n",
              "std           1.563279\n",
              "min           0.000000\n",
              "25%           0.000000\n",
              "50%           1.000000\n",
              "75%           2.000000\n",
              "max          17.000000\n",
              "Name: hashtags_count, dtype: float64"
            ]
          },
          "metadata": {
            "tags": []
          },
          "execution_count": 108
        }
      ]
    },
    {
      "cell_type": "code",
      "metadata": {
        "id": "9xoVrh2UTmH9",
        "outputId": "f2368fd3-67bd-471a-abdd-295ca5e0ba26",
        "colab": {
          "base_uri": "https://localhost:8080/",
          "height": 445
        }
      },
      "source": [
        "df_covid.head()"
      ],
      "execution_count": null,
      "outputs": [
        {
          "output_type": "execute_result",
          "data": {
            "text/html": [
              "<div>\n",
              "<style scoped>\n",
              "    .dataframe tbody tr th:only-of-type {\n",
              "        vertical-align: middle;\n",
              "    }\n",
              "\n",
              "    .dataframe tbody tr th {\n",
              "        vertical-align: top;\n",
              "    }\n",
              "\n",
              "    .dataframe thead th {\n",
              "        text-align: right;\n",
              "    }\n",
              "</style>\n",
              "<table border=\"1\" class=\"dataframe\">\n",
              "  <thead>\n",
              "    <tr style=\"text-align: right;\">\n",
              "      <th></th>\n",
              "      <th>user_name</th>\n",
              "      <th>user_location</th>\n",
              "      <th>user_description</th>\n",
              "      <th>user_created</th>\n",
              "      <th>user_followers</th>\n",
              "      <th>user_friends</th>\n",
              "      <th>user_favourites</th>\n",
              "      <th>user_verified</th>\n",
              "      <th>date</th>\n",
              "      <th>text</th>\n",
              "      <th>hashtags</th>\n",
              "      <th>source</th>\n",
              "      <th>is_retweet</th>\n",
              "      <th>hashtags_count</th>\n",
              "    </tr>\n",
              "  </thead>\n",
              "  <tbody>\n",
              "    <tr>\n",
              "      <th>0</th>\n",
              "      <td>ᏉᎥ☻լꂅϮ</td>\n",
              "      <td>astroworld</td>\n",
              "      <td>wednesday addams as a disney princess keepin i...</td>\n",
              "      <td>2017-05-26 05:46:42</td>\n",
              "      <td>624</td>\n",
              "      <td>950</td>\n",
              "      <td>18775</td>\n",
              "      <td>False</td>\n",
              "      <td>2020-07-25 12:27:21</td>\n",
              "      <td>If I smelled the scent of hand sanitizers toda...</td>\n",
              "      <td>[]</td>\n",
              "      <td>Twitter for iPhone</td>\n",
              "      <td>False</td>\n",
              "      <td>0</td>\n",
              "    </tr>\n",
              "    <tr>\n",
              "      <th>1</th>\n",
              "      <td>Tom Basile 🇺🇸</td>\n",
              "      <td>New York, NY</td>\n",
              "      <td>Husband, Father, Columnist &amp; Commentator. Auth...</td>\n",
              "      <td>2009-04-16 20:06:23</td>\n",
              "      <td>2253</td>\n",
              "      <td>1677</td>\n",
              "      <td>24</td>\n",
              "      <td>True</td>\n",
              "      <td>2020-07-25 12:27:17</td>\n",
              "      <td>Hey @Yankees @YankeesPR and @MLB - wouldn't it...</td>\n",
              "      <td>[]</td>\n",
              "      <td>Twitter for Android</td>\n",
              "      <td>False</td>\n",
              "      <td>0</td>\n",
              "    </tr>\n",
              "    <tr>\n",
              "      <th>2</th>\n",
              "      <td>Time4fisticuffs</td>\n",
              "      <td>Pewee Valley, KY</td>\n",
              "      <td>#Christian #Catholic #Conservative #Reagan #Re...</td>\n",
              "      <td>2009-02-28 18:57:41</td>\n",
              "      <td>9275</td>\n",
              "      <td>9525</td>\n",
              "      <td>7254</td>\n",
              "      <td>False</td>\n",
              "      <td>2020-07-25 12:27:14</td>\n",
              "      <td>@diane3443 @wdunlap @realDonaldTrump Trump nev...</td>\n",
              "      <td>['COVID19']</td>\n",
              "      <td>Twitter for Android</td>\n",
              "      <td>False</td>\n",
              "      <td>1</td>\n",
              "    </tr>\n",
              "    <tr>\n",
              "      <th>3</th>\n",
              "      <td>ethel mertz</td>\n",
              "      <td>Stuck in the Middle</td>\n",
              "      <td>#Browns #Indians #ClevelandProud #[]_[] #Cavs ...</td>\n",
              "      <td>2019-03-07 01:45:06</td>\n",
              "      <td>197</td>\n",
              "      <td>987</td>\n",
              "      <td>1488</td>\n",
              "      <td>False</td>\n",
              "      <td>2020-07-25 12:27:10</td>\n",
              "      <td>@brookbanktv The one gift #COVID19 has give me...</td>\n",
              "      <td>['COVID19']</td>\n",
              "      <td>Twitter for iPhone</td>\n",
              "      <td>False</td>\n",
              "      <td>1</td>\n",
              "    </tr>\n",
              "    <tr>\n",
              "      <th>4</th>\n",
              "      <td>DIPR-J&amp;K</td>\n",
              "      <td>Jammu and Kashmir</td>\n",
              "      <td>🖊️Official Twitter handle of Department of Inf...</td>\n",
              "      <td>2017-02-12 06:45:15</td>\n",
              "      <td>101009</td>\n",
              "      <td>168</td>\n",
              "      <td>101</td>\n",
              "      <td>False</td>\n",
              "      <td>2020-07-25 12:27:08</td>\n",
              "      <td>25 July : Media Bulletin on Novel #CoronaVirus...</td>\n",
              "      <td>['CoronaVirusUpdates', 'COVID19']</td>\n",
              "      <td>Twitter for Android</td>\n",
              "      <td>False</td>\n",
              "      <td>2</td>\n",
              "    </tr>\n",
              "  </tbody>\n",
              "</table>\n",
              "</div>"
            ],
            "text/plain": [
              "         user_name         user_location  ... is_retweet hashtags_count\n",
              "0           ᏉᎥ☻լꂅϮ            astroworld  ...      False              0\n",
              "1    Tom Basile 🇺🇸          New York, NY  ...      False              0\n",
              "2  Time4fisticuffs      Pewee Valley, KY  ...      False              1\n",
              "3      ethel mertz  Stuck in the Middle   ...      False              1\n",
              "4         DIPR-J&K     Jammu and Kashmir  ...      False              2\n",
              "\n",
              "[5 rows x 14 columns]"
            ]
          },
          "metadata": {
            "tags": []
          },
          "execution_count": 109
        }
      ]
    },
    {
      "cell_type": "markdown",
      "metadata": {
        "id": "FC8hZwB8VDqi"
      },
      "source": [
        ""
      ]
    },
    {
      "cell_type": "markdown",
      "metadata": {
        "id": "GVqVajYCVM05"
      },
      "source": [
        "#### hiển thị số lượng hashtag được nhắc nhiều nhất"
      ]
    },
    {
      "cell_type": "code",
      "metadata": {
        "id": "if0JDJOfVRee"
      },
      "source": [
        "import wordcloud\n",
        "from wordcloud import WordCloud, STOPWORDS\n",
        "def build_wordcloud(df, title):\n",
        "    wordcloud = WordCloud(\n",
        "        background_color='gray', \n",
        "        stopwords=set(STOPWORDS), \n",
        "        max_words=50, \n",
        "        max_font_size=40, \n",
        "        random_state=666\n",
        "    ).generate(str(df))\n",
        "\n",
        "    fig = plt.figure(1, figsize=(14,14))\n",
        "    plt.axis('off')\n",
        "    fig.suptitle(title, fontsize=16)\n",
        "    fig.subplots_adjust(top=2.3)\n",
        "\n",
        "    plt.imshow(wordcloud)\n",
        "    plt.show()"
      ],
      "execution_count": null,
      "outputs": []
    },
    {
      "cell_type": "code",
      "metadata": {
        "id": "rio8xLqrVc9-",
        "outputId": "9f5e8f54-5625-45c3-d202-82f1583d496a",
        "colab": {
          "base_uri": "https://localhost:8080/",
          "height": 476
        }
      },
      "source": [
        "build_wordcloud(df_covid['text'], 'Prevalent words in tweets for all dataset')"
      ],
      "execution_count": null,
      "outputs": [
        {
          "output_type": "display_data",
          "data": {
            "image/png": "[encoded data removed]",
            "text/plain": [
              "<Figure size 1008x1008 with 1 Axes>"
            ]
          },
          "metadata": {
            "tags": [],
            "needs_background": "light"
          }
        }
      ]
    },
    {
      "cell_type": "code",
      "metadata": {
        "id": "V-4NaA3-WUkM"
      },
      "source": [
        ""
      ],
      "execution_count": null,
      "outputs": []
    }
  ]
}